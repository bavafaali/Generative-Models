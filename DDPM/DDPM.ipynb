{
  "cells": [
    {
      "cell_type": "markdown",
      "metadata": {
        "id": "g7btoXL7Im7M"
      },
      "source": [
        "# **Part1: Diffusion Models and Latent Diffusion**"
      ]
    },
    {
      "cell_type": "code",
      "execution_count": 3,
      "metadata": {
        "colab": {
          "base_uri": "https://localhost:8080/"
        },
        "id": "oQzO-HrVP2j4",
        "outputId": "9cbc0038-2726-44c2-ca39-7d765e72febe"
      },
      "outputs": [
        {
          "output_type": "stream",
          "name": "stdout",
          "text": [
            "Sat Mar  1 15:39:33 2025       \n",
            "+-----------------------------------------------------------------------------------------+\n",
            "| NVIDIA-SMI 550.54.15              Driver Version: 550.54.15      CUDA Version: 12.4     |\n",
            "|-----------------------------------------+------------------------+----------------------+\n",
            "| GPU  Name                 Persistence-M | Bus-Id          Disp.A | Volatile Uncorr. ECC |\n",
            "| Fan  Temp   Perf          Pwr:Usage/Cap |           Memory-Usage | GPU-Util  Compute M. |\n",
            "|                                         |                        |               MIG M. |\n",
            "|=========================================+========================+======================|\n",
            "|   0  Tesla T4                       Off |   00000000:00:04.0 Off |                    0 |\n",
            "| N/A   62C    P8             11W /   70W |       0MiB /  15360MiB |      0%      Default |\n",
            "|                                         |                        |                  N/A |\n",
            "+-----------------------------------------+------------------------+----------------------+\n",
            "                                                                                         \n",
            "+-----------------------------------------------------------------------------------------+\n",
            "| Processes:                                                                              |\n",
            "|  GPU   GI   CI        PID   Type   Process name                              GPU Memory |\n",
            "|        ID   ID                                                               Usage      |\n",
            "|=========================================================================================|\n",
            "|  No running processes found                                                             |\n",
            "+-----------------------------------------------------------------------------------------+\n"
          ]
        }
      ],
      "source": [
        "gpu_info = !nvidia-smi\n",
        "gpu_info = '\\n'.join(gpu_info)\n",
        "if gpu_info.find('failed') >= 0:\n",
        "  print('Not connected to a GPU')\n",
        "else:\n",
        "  print(gpu_info)"
      ]
    },
    {
      "cell_type": "markdown",
      "metadata": {
        "id": "_rfJ5C-XQtCq"
      },
      "source": [
        "# Section 1: Overview of Diffusion Models"
      ]
    },
    {
      "cell_type": "markdown",
      "metadata": {
        "id": "mZrgWRVAMTcB"
      },
      "source": [
        "![model type diag](https://lilianweng.github.io/posts/2021-07-11-diffusion-models/generative-overview.png)\n",
        "For an overview of different types of generative models. (read [this blog post](https://lilianweng.github.io/posts/2021-07-11-diffusion-models/))"
      ]
    },
    {
      "cell_type": "markdown",
      "metadata": {
        "id": "J4yfOkm0HPyQ"
      },
      "source": [
        "The core concept behind these models is deceptively simple:\n",
        "- Take a starting image\n",
        "- Add some noise, iteratively degrading the image until almost nothing but noise remains.\n",
        "- Train a model to 'undo' these noise steps.\n",
        "- To generate, start from pure noise and repeatedly apply the model to 'denoise' our way back to a plausible image.\n",
        "\n",
        "The model generally has access to some representation of 't' - that is, how many noise steps have been applied to the image. And to make its job easier, we typically get the model to output a prediction for the *noise* that we could subtract from the noisy image to get a less noisy one, rather than spitting out the denoised image."
      ]
    },
    {
      "cell_type": "markdown",
      "metadata": {
        "id": "bgxN3QTzQzr3"
      },
      "source": [
        "# Section 2: Implemention\n",
        "\n"
      ]
    },
    {
      "cell_type": "code",
      "execution_count": 4,
      "metadata": {
        "id": "8WVtcypWQ4oN"
      },
      "outputs": [],
      "source": [
        "# @title Install requirements\n",
        "!pip install datasets &>> install.log"
      ]
    },
    {
      "cell_type": "code",
      "execution_count": 5,
      "metadata": {
        "id": "F724QP16w7-A"
      },
      "outputs": [],
      "source": [
        "# @title imports and utility functions\n",
        "\n",
        "from datasets import load_dataset\n",
        "from PIL import Image\n",
        "import torch.nn.functional as F\n",
        "import os\n",
        "from tqdm.notebook import tqdm\n",
        "import torch\n",
        "import numpy as np\n",
        "\n",
        "\n",
        "def img_to_tensor(im):\n",
        "  return torch.tensor(np.array(im.convert('RGB'))/255).permute(2, 0, 1).unsqueeze(0) * 2 - 1\n",
        "\n",
        "def tensor_to_image(t):\n",
        "  return Image.fromarray(np.array(((t.squeeze().permute(1, 2, 0)+1)/2).clip(0, 1)*255).astype(np.uint8))\n",
        "\n",
        "def gather(consts: torch.Tensor, t: torch.Tensor):\n",
        "    \"\"\"\n",
        "        Gather consts for `t` and reshape to feature map shape\n",
        "    \"\"\"\n",
        "    c = consts.gather(-1, t)\n",
        "    return c.reshape(-1, 1, 1, 1)"
      ]
    },
    {
      "cell_type": "markdown",
      "metadata": {
        "id": "R62DV4f1Q60i"
      },
      "source": [
        "## 2.1 Dataset"
      ]
    },
    {
      "cell_type": "code",
      "execution_count": 6,
      "metadata": {
        "colab": {
          "base_uri": "https://localhost:8080/",
          "height": 377
        },
        "id": "Cbq08k84S8Wh",
        "outputId": "44c16184-45f2-4e12-d3e0-8a21b70c3822"
      },
      "outputs": [
        {
          "output_type": "stream",
          "name": "stderr",
          "text": [
            "/usr/local/lib/python3.11/dist-packages/huggingface_hub/utils/_auth.py:94: UserWarning: \n",
            "The secret `HF_TOKEN` does not exist in your Colab secrets.\n",
            "To authenticate with the Hugging Face Hub, create a token in your settings tab (https://huggingface.co/settings/tokens), set it as secret in your Google Colab and restart your session.\n",
            "You will be able to reuse this secret in all of your notebooks.\n",
            "Please note that authentication is recommended but still optional to access public models or datasets.\n",
            "  warnings.warn(\n"
          ]
        },
        {
          "output_type": "execute_result",
          "data": {
            "text/plain": [
              "<PIL.Image.Image image mode=RGB size=640x256>"
            ],
            "image/png": "[encoded data removed]",
            "image/jpeg": "[encoded data removed]"
          },
          "metadata": {},
          "execution_count": 6
        }
      ],
      "source": [
        "#@title cifar10 - 32px images in 10 classes\n",
        "\n",
        "# Download and load the dataset\n",
        "cifar10 = load_dataset('cifar10')\n",
        "\n",
        "# View some examples:\n",
        "image = Image.new('RGB', size=(32*5, 32*2))\n",
        "for i in range(10):\n",
        "  im = cifar10['train'][i]['img']\n",
        "  image.paste(im, ( (i%5)*32, (i//5)*32 ))\n",
        "image.resize((32*5*4, 32*2*4), Image.NEAREST)"
      ]
    },
    {
      "cell_type": "code",
      "execution_count": 7,
      "metadata": {
        "cellView": "form",
        "id": "6lQ1L34RIclg"
      },
      "outputs": [],
      "source": [
        "# @title alternative dataset: faces (CelebA)\n",
        "# faces = load_dataset('huggan/CelebA-faces')"
      ]
    },
    {
      "cell_type": "markdown",
      "metadata": {
        "id": "af5DosuCMSq-"
      },
      "source": [
        "## 2.2 Adding Noise\n",
        "We set up a 'variance schedule' $\\beta$, where $\\beta_t$ specifies how much noise we want to add at that step. The formula for single noise step is:"
      ]
    },
    {
      "cell_type": "markdown",
      "metadata": {
        "id": "4p1_v5y2Mpwo"
      },
      "source": [
        "$$q(\\mathbf{x}_t \\vert \\mathbf{x}_{t-1}) = \\mathcal{N}(\\mathbf{x}_t; \\sqrt{1 - \\beta_t} \\mathbf{x}_{t-1}, \\beta_t\\mathbf{I}), \\\n",
        "q(\\mathbf{x}_{1:T} \\vert \\mathbf{x}_0) = \\prod^T_{t=1} q(\\mathbf{x}_t \\vert \\mathbf{x}_{t-1})$$"
      ]
    },
    {
      "cell_type": "code",
      "execution_count": 8,
      "metadata": {
        "colab": {
          "base_uri": "https://localhost:8080/",
          "height": 145
        },
        "id": "GaBT9fr4MWSy",
        "outputId": "5e514ac7-2960-4f36-d96d-ede7046d102e"
      },
      "outputs": [
        {
          "output_type": "execute_result",
          "data": {
            "text/plain": [
              "<PIL.Image.Image image mode=RGB size=640x128>"
            ],
            "image/png": "[encoded data removed]",
            "image/jpeg": "[encoded data removed]"
          },
          "metadata": {},
          "execution_count": 8
        }
      ],
      "source": [
        "# import torch\n",
        "from math import sqrt\n",
        "\n",
        "n_steps = 100\n",
        "beta = torch.linspace(0.0001, 0.04, n_steps)\n",
        "\n",
        "def q_xt_xtminus1(xtm1, t):\n",
        "\n",
        "    # mu = √(1-beta[t]) * x[t-1]\n",
        "    mu = gather(1. - beta, t) ** 0.5 * xtm1\n",
        "\n",
        "    # sigma = beta[t]\n",
        "    sigma = gather(beta, t) ** 0.5\n",
        "\n",
        "    # Reparameterization Trick:\n",
        "    # z ~ N(mu, sigma) => z = mu + sigma * ε, where: ε ~ N(0,1)\n",
        "    xt = mu + sigma * torch.randn_like(xtm1)\n",
        "\n",
        "    return xt\n",
        "\n",
        "\n",
        "# Show im at different stages\n",
        "ims = []\n",
        "start_im = cifar10['train'][10]['img']\n",
        "x = img_to_tensor(start_im).squeeze()\n",
        "for t in range(n_steps):\n",
        "\n",
        "  # Store images every 20 steps to show progression\n",
        "  if t%20 == 0:\n",
        "    ims.append(tensor_to_image(x))\n",
        "\n",
        "  # Calculate Xt given Xt-1 (i.e. x from the previous iteration)\n",
        "  t = torch.tensor(t, dtype=torch.long) # t as a tensor\n",
        "  x = q_xt_xtminus1(x, t) # Modify x using our function above\n",
        "\n",
        "# Display the images\n",
        "image = Image.new('RGB', size=(32*5, 32))\n",
        "for i, im in enumerate(ims):\n",
        "  image.paste(im, ((i%5)*32, 0))\n",
        "image.resize((32*4*5, 32*4), Image.NEAREST)"
      ]
    },
    {
      "cell_type": "markdown",
      "metadata": {
        "id": "YsdVzE6wSfo_"
      },
      "source": [
        "To train our model at different time steps easily, we need to be able to apply all noise at once. This can be done using [reparameterization trick](https://lilianweng.github.io/posts/2018-08-12-vae/#reparameterization-trick):\n",
        "\n",
        "$$\\begin{aligned}\n",
        "q(\\mathbf{x}_t \\vert \\mathbf{x}_0) &= \\mathcal{N}(\\mathbf{x}_t; \\sqrt{\\bar{\\alpha}_t} \\mathbf{x}_0, (1 - \\bar{\\alpha}_t)\\mathbf{I})\n",
        "\\end{aligned},\\  where :\\bar{\\alpha}_t = \\prod_{i=1}^T \\alpha_i$$\n"
      ]
    },
    {
      "cell_type": "code",
      "execution_count": 9,
      "metadata": {
        "colab": {
          "base_uri": "https://localhost:8080/",
          "height": 145
        },
        "id": "hW8yPqVfS4Sn",
        "outputId": "07c6f626-38e0-4fea-896c-29afc8a6a505"
      },
      "outputs": [
        {
          "output_type": "execute_result",
          "data": {
            "text/plain": [
              "<PIL.Image.Image image mode=RGB size=640x128>"
            ],
            "image/png": "[encoded data removed]",
            "image/jpeg": "[encoded data removed]"
          },
          "metadata": {},
          "execution_count": 9
        }
      ],
      "source": [
        "n_steps = 100\n",
        "beta = torch.linspace(0.0001, 0.02, n_steps)\n",
        "alpha = 1. - beta\n",
        "alpha_bar = torch.cumprod(alpha, dim=0)\n",
        "\n",
        "def q_xt_x0(x0, t):\n",
        "\n",
        "    # mu = √(alpha_bar[t]) * x[0]\n",
        "    mu = gather(alpha_bar, t) ** 0.5 * x0\n",
        "\n",
        "    # sigma = 1 - alpha_bar[t]\n",
        "    sigma = gather(1. - alpha_bar, t) ** 0.5\n",
        "\n",
        "    # Reparameterization Trick:\n",
        "    # z ~ N(mu, sigma) => z = mu + sigma * ε, where: ε ~ N(0,1)\n",
        "    xt = mu + sigma * torch.randn_like(x0)\n",
        "\n",
        "    return xt\n",
        "\n",
        "\n",
        "# Show im at different stages\n",
        "ims = []\n",
        "start_im = cifar10['train'][10]['img']\n",
        "x0 = img_to_tensor(start_im).squeeze()\n",
        "for t in [0, 20, 40, 60, 80]:\n",
        "  x = q_xt_x0(x0, torch.tensor(t, dtype=torch.long))\n",
        "  ims.append(tensor_to_image(x))\n",
        "\n",
        "image = Image.new('RGB', size=(32*5, 32))\n",
        "for i, im in enumerate(ims):\n",
        "  image.paste(im, ((i%5)*32, 0))\n",
        "image.resize((32*4*5, 32*4), Image.NEAREST)"
      ]
    },
    {
      "cell_type": "markdown",
      "metadata": {
        "id": "iX2EnKEhUmhf"
      },
      "source": [
        "Note the difference: we can now calculate xt without having to do `for t in range...`."
      ]
    },
    {
      "cell_type": "markdown",
      "metadata": {
        "id": "fc4IdL5YawTN"
      },
      "source": [
        "## 2.3 Choosing a Model for Denoising\n",
        "\n",
        "One issue with a typical 'bottlekneck' architecture like an autoencoder is that by design they lose the details around exact pixel coordinates. To get around this, an architecture called the U-Net was introduced. Originally designed for segmentation tasks,  passes information from high-resolution, early layers to later layers. These 'shortcuts' let the network use detailed features from the original image while also capturing more high-level semantic information from the deeper layers.\n",
        "\n",
        "These networks turned out to be great at all sorts of image-to-image tasks, e.g., colorization ([deoldify](https://github.com/jantic/DeOldify)), segmentation and so on. These days, typical unet models incorporate ideas such as attention and can be built around pretrained backbones like resnet-50 for transfer learning tasks.\n",
        "\n",
        "The implementation below (taken almost verbatim from [here](https://github.com/labmlai/annotated_deep_learning_paper_implementations/blob/master/labml_nn/diffusion/ddpm/unet.py)) is a fairly typical modern Unet with one extra trick: a TimeEmbedding which encodes the time step (t) and lets the model use this as conditioning information by passing it in, in the middle of the network."
      ]
    },
    {
      "cell_type": "code",
      "execution_count": 10,
      "metadata": {
        "id": "aHwkcmvkRLH0"
      },
      "outputs": [],
      "source": [
        "#@title Unet Definition\n",
        "\n",
        "import math\n",
        "from typing import Optional, Tuple, Union, List\n",
        "\n",
        "import torch\n",
        "from torch import nn\n",
        "\n",
        "# A fancy activation function\n",
        "class Swish(nn.Module):\n",
        "    \"\"\"\n",
        "        Swish actiavation function\n",
        "    \"\"\"\n",
        "\n",
        "    def forward(self, x):\n",
        "        return x * torch.sigmoid(x)\n",
        "\n",
        "# The time embedding\n",
        "class TimeEmbedding(nn.Module):\n",
        "    \"\"\"\n",
        "        Embeddings for t\n",
        "    \"\"\"\n",
        "\n",
        "    def __init__(self, n_channels: int):\n",
        "        \"\"\"\n",
        "            Args:\n",
        "              n_channels: int\n",
        "              Number of dimensions in the embedding\n",
        "        \"\"\"\n",
        "        super().__init__()\n",
        "        self.n_channels = n_channels\n",
        "        # First linear layer\n",
        "        self.lin1 = nn.Linear(self.n_channels // 4, self.n_channels)\n",
        "        # Activation\n",
        "        self.act = Swish()\n",
        "        # Second linear layer\n",
        "        self.lin2 = nn.Linear(self.n_channels, self.n_channels)\n",
        "\n",
        "    def forward(self, t: torch.Tensor):\n",
        "        # Create sinusoidal position embeddings\n",
        "\n",
        "        half_dim = self.n_channels // 8\n",
        "        emb = math.log(10_000) / (half_dim - 1)\n",
        "        emb = torch.exp(torch.arange(half_dim, device=t.device) * -emb)\n",
        "        emb = t[:, None] * emb[None, :]\n",
        "        emb = torch.cat((emb.sin(), emb.cos()), dim=1)\n",
        "\n",
        "        # Transform with the MLP\n",
        "        emb = self.act(self.lin1(emb))\n",
        "        emb = self.lin2(emb)\n",
        "\n",
        "        #\n",
        "        return emb\n",
        "\n",
        "# Residual blocks include 'skip' connections\n",
        "class ResidualBlock(nn.Module):\n",
        "    \"\"\"\n",
        "        A residual block has two convolution layers with group normalization.\n",
        "        Each resolution is processed with two residual blocks.\n",
        "    \"\"\"\n",
        "\n",
        "    def __init__(self, in_channels: int, out_channels: int, time_channels: int, n_groups: int = 32):\n",
        "\n",
        "        \"\"\"\n",
        "            Args:\n",
        "              in_channels: int\n",
        "              Number of input channels\n",
        "              out_channels: int\n",
        "              Number of output channels\n",
        "              time_channels: int\n",
        "              Number of channels in the time step t embeddings\n",
        "              n_groups: int\n",
        "              Number of groups for group normalization\n",
        "        \"\"\"\n",
        "        super().__init__()\n",
        "        # Group normalization and the first convolution layer\n",
        "        self.norm1 = nn.GroupNorm(n_groups, in_channels)\n",
        "        self.act1 = Swish()\n",
        "        self.conv1 = nn.Conv2d(in_channels, out_channels, kernel_size=(3, 3), padding=(1, 1))\n",
        "\n",
        "        # Group normalization and the second convolution layer\n",
        "        self.norm2 = nn.GroupNorm(n_groups, out_channels)\n",
        "        self.act2 = Swish()\n",
        "        self.conv2 = nn.Conv2d(out_channels, out_channels, kernel_size=(3, 3), padding=(1, 1))\n",
        "\n",
        "        # If the number of input channels is not equal to the number of output channels we have to\n",
        "        # project the shortcut connection\n",
        "        if in_channels != out_channels:\n",
        "            self.shortcut = nn.Conv2d(in_channels, out_channels, kernel_size=(1, 1))\n",
        "        else:\n",
        "            self.shortcut = nn.Identity()\n",
        "\n",
        "        # Linear layer for time embeddings\n",
        "        self.time_emb = nn.Linear(time_channels, out_channels)\n",
        "\n",
        "    def forward(self, x: torch.Tensor, t: torch.Tensor):\n",
        "\n",
        "        \"\"\"\n",
        "            Args:\n",
        "              x: torch.tensor\n",
        "              Input with the shape `[batch_size, in_channels, height, width]`\n",
        "              t: torch.tensor\n",
        "              Timestep with the shape `[batch_size, time_channels]`\n",
        "        \"\"\"\n",
        "\n",
        "        # First convolution layer\n",
        "        h = self.conv1(self.act1(self.norm1(x)))\n",
        "        # Add time embeddings\n",
        "        h += self.time_emb(t)[:, :, None, None]\n",
        "        # Second convolution layer\n",
        "        h = self.conv2(self.act2(self.norm2(h)))\n",
        "\n",
        "        # Add the shortcut connection and return\n",
        "        return h + self.shortcut(x)\n",
        "\n",
        "\n",
        "class AttentionBlock(nn.Module):\n",
        "\n",
        "    \"\"\"\n",
        "        Attention block is similar to transformer multi-head attention\n",
        "    \"\"\"\n",
        "\n",
        "    def __init__(self, n_channels: int, n_heads: int = 1, d_k: int = None, n_groups: int = 32):\n",
        "\n",
        "        \"\"\"\n",
        "            Args:\n",
        "              in_channels: int\n",
        "              Number of input channels\n",
        "              n_heads: int\n",
        "              Number of heads in multi-head attention\n",
        "              d_k: int\n",
        "              Dimensions of each head\n",
        "              n_groups: int\n",
        "              Number of groups for group normalization\n",
        "        \"\"\"\n",
        "        super().__init__()\n",
        "\n",
        "        # Default `d_k`\n",
        "        if d_k is None:\n",
        "            d_k = n_channels\n",
        "        # Normalization layer\n",
        "        self.norm = nn.GroupNorm(n_groups, n_channels)\n",
        "        # Projections for query, key and values\n",
        "        self.projection = nn.Linear(n_channels, n_heads * d_k * 3)\n",
        "        # Linear layer for final transformation\n",
        "        self.output = nn.Linear(n_heads * d_k, n_channels)\n",
        "        # Scale for dot-product attention\n",
        "        self.scale = d_k ** -0.5\n",
        "        #\n",
        "        self.n_heads = n_heads\n",
        "        self.d_k = d_k\n",
        "\n",
        "    def forward(self, x: torch.Tensor, t: Optional[torch.Tensor] = None):\n",
        "        \"\"\"\n",
        "            Args:\n",
        "              x: torch.Tensor\n",
        "              Input with shape [batch_size, in_channels, height, width]\n",
        "              t: torch.Tensor\n",
        "              Timestep shape [batch_size, time_channels]\n",
        "        \"\"\"\n",
        "\n",
        "        # `t` is not used, but it's kept in the arguments because for the attention layer function signature\n",
        "        # to match with `ResidualBlock`.\n",
        "        _ = t\n",
        "        # Get shape\n",
        "        batch_size, n_channels, height, width = x.shape\n",
        "        # Change `x` to shape `[batch_size, seq, n_channels]`\n",
        "        x = x.view(batch_size, n_channels, -1).permute(0, 2, 1)\n",
        "        # Get query, key, and values (concatenated) and shape it to `[batch_size, seq, n_heads, 3 * d_k]`\n",
        "        qkv = self.projection(x).view(batch_size, -1, self.n_heads, 3 * self.d_k)\n",
        "        # Split query, key, and values. Each of them will have shape `[batch_size, seq, n_heads, d_k]`\n",
        "        q, k, v = torch.chunk(qkv, 3, dim=-1)\n",
        "        # Calculate scaled dot-product $\\frac{Q K^\\top}{\\sqrt{d_k}}$\n",
        "        attn = torch.einsum('bihd,bjhd->bijh', q, k) * self.scale\n",
        "        # Softmax along the sequence dimension $\\underset{seq}{softmax}\\Bigg(\\frac{Q K^\\top}{\\sqrt{d_k}}\\Bigg)$\n",
        "        attn = attn.softmax(dim=1)\n",
        "        # Multiply by values\n",
        "        res = torch.einsum('bijh,bjhd->bihd', attn, v)\n",
        "        # Reshape to `[batch_size, seq, n_heads * d_k]`\n",
        "        res = res.view(batch_size, -1, self.n_heads * self.d_k)\n",
        "        # Transform to `[batch_size, seq, n_channels]`\n",
        "        res = self.output(res)\n",
        "\n",
        "        # Add skip connection\n",
        "        res += x\n",
        "\n",
        "        # Change to shape `[batch_size, in_channels, height, width]`\n",
        "        res = res.permute(0, 2, 1).view(batch_size, n_channels, height, width)\n",
        "\n",
        "        #\n",
        "        return res\n",
        "\n",
        "\n",
        "class DownBlock(nn.Module):\n",
        "    \"\"\"\n",
        "        This combines `ResidualBlock` and `AttentionBlock`. These are used in the first half of U-Net at each resolution.\n",
        "    \"\"\"\n",
        "\n",
        "    def __init__(self, in_channels: int, out_channels: int, time_channels: int, has_attn: bool):\n",
        "        super().__init__()\n",
        "        self.res = ResidualBlock(in_channels, out_channels, time_channels)\n",
        "        if has_attn:\n",
        "            self.attn = AttentionBlock(out_channels)\n",
        "        else:\n",
        "            self.attn = nn.Identity()\n",
        "\n",
        "    def forward(self, x: torch.Tensor, t: torch.Tensor):\n",
        "        x = self.res(x, t)\n",
        "        x = self.attn(x)\n",
        "        return x\n",
        "\n",
        "\n",
        "class UpBlock(nn.Module):\n",
        "    \"\"\"\n",
        "        This combines `ResidualBlock` and `AttentionBlock`. These are used in the second half of U-Net at each resolution.\n",
        "    \"\"\"\n",
        "\n",
        "    def __init__(self, in_channels: int, out_channels: int, time_channels: int, has_attn: bool):\n",
        "        super().__init__()\n",
        "        # The input has `in_channels + out_channels` because we concatenate the output of the same resolution\n",
        "        # from the first half of the U-Net\n",
        "        self.res = ResidualBlock(in_channels + out_channels, out_channels, time_channels)\n",
        "        if has_attn:\n",
        "            self.attn = AttentionBlock(out_channels)\n",
        "        else:\n",
        "            self.attn = nn.Identity()\n",
        "\n",
        "    def forward(self, x: torch.Tensor, t: torch.Tensor):\n",
        "        x = self.res(x, t)\n",
        "        x = self.attn(x)\n",
        "        return x\n",
        "\n",
        "\n",
        "class MiddleBlock(nn.Module):\n",
        "    \"\"\"\n",
        "        It combines a `ResidualBlock`, `AttentionBlock`, followed by another `ResidualBlock`.\n",
        "        This block is applied at the lowest resolution of the U-Net.\n",
        "    \"\"\"\n",
        "\n",
        "    def __init__(self, n_channels: int, time_channels: int):\n",
        "        super().__init__()\n",
        "        self.res1 = ResidualBlock(n_channels, n_channels, time_channels)\n",
        "        self.attn = AttentionBlock(n_channels)\n",
        "        self.res2 = ResidualBlock(n_channels, n_channels, time_channels)\n",
        "\n",
        "    def forward(self, x: torch.Tensor, t: torch.Tensor):\n",
        "        x = self.res1(x, t)\n",
        "        x = self.attn(x)\n",
        "        x = self.res2(x, t)\n",
        "        return x\n",
        "\n",
        "\n",
        "class Upsample(nn.Module):\n",
        "    \"\"\"\n",
        "        Scale up the feature map by $2 \\times$\n",
        "    \"\"\"\n",
        "\n",
        "    def __init__(self, n_channels):\n",
        "        super().__init__()\n",
        "        self.conv = nn.ConvTranspose2d(n_channels, n_channels, (4, 4), (2, 2), (1, 1))\n",
        "\n",
        "    def forward(self, x: torch.Tensor, t: torch.Tensor):\n",
        "        # `t` is not used, but it's kept in the arguments because for the attention layer function signature\n",
        "        # to match with `ResidualBlock`.\n",
        "        _ = t\n",
        "        return self.conv(x)\n",
        "\n",
        "\n",
        "class Downsample(nn.Module):\n",
        "    \"\"\"\n",
        "        Scale down the feature map\n",
        "    \"\"\"\n",
        "\n",
        "    def __init__(self, n_channels):\n",
        "        super().__init__()\n",
        "        self.conv = nn.Conv2d(n_channels, n_channels, (3, 3), (2, 2), (1, 1))\n",
        "\n",
        "    def forward(self, x: torch.Tensor, t: torch.Tensor):\n",
        "        # `t` is not used, but it's kept in the arguments because for the attention layer function signature\n",
        "        # to match with `ResidualBlock`.\n",
        "        _ = t\n",
        "        return self.conv(x)\n",
        "\n",
        "# The core class definition (aka the important bit)\n",
        "class UNet(nn.Module):\n",
        "    \"\"\"\n",
        "        U-Net\n",
        "    \"\"\"\n",
        "\n",
        "    def __init__(self, image_channels: int = 3, n_channels: int = 64,\n",
        "                 ch_mults: Union[Tuple[int, ...], List[int]] = (1, 2, 2, 4),\n",
        "                 is_attn: Union[Tuple[bool, ...], List[int]] = (False, False, True, True),\n",
        "                 n_blocks: int = 2):\n",
        "        \"\"\"\n",
        "            Args:\n",
        "              image_channels: int\n",
        "              Number of channels in the image. 3 for RGB.\n",
        "              n_channels: int\n",
        "              Number of input channels in the initial feature map that we transform the image into\n",
        "              ch_mults: Tuple\n",
        "              List of channel numbers at each resolution. The number of channels is `ch_mults[i] * n_channels`\n",
        "              is_attn: Tuple\n",
        "              List of booleans that indicate whether to use attention at each resolution\n",
        "              n_blocks: int\n",
        "              Number of `UpDownBlocks` at each resolution\n",
        "        \"\"\"\n",
        "        super().__init__()\n",
        "\n",
        "        # Number of resolutions\n",
        "        n_resolutions = len(ch_mults)\n",
        "\n",
        "        # Project image into feature map\n",
        "        self.image_proj = nn.Conv2d(image_channels, n_channels, kernel_size=(3, 3), padding=(1, 1))\n",
        "\n",
        "        # Time embedding layer. Time embedding has `n_channels * 4` channels\n",
        "        self.time_emb = TimeEmbedding(n_channels * 4)\n",
        "\n",
        "        # #### First half of U-Net - decreasing resolution\n",
        "        down = []\n",
        "        # Number of channels\n",
        "        out_channels = in_channels = n_channels\n",
        "        # For each resolution\n",
        "        for i in range(n_resolutions):\n",
        "            # Number of output channels at this resolution\n",
        "            out_channels = in_channels * ch_mults[i]\n",
        "            # Add `n_blocks`\n",
        "            for _ in range(n_blocks):\n",
        "                down.append(DownBlock(in_channels, out_channels, n_channels * 4, is_attn[i]))\n",
        "                in_channels = out_channels\n",
        "            # Down sample at all resolutions except the last\n",
        "            if i < n_resolutions - 1:\n",
        "                down.append(Downsample(in_channels))\n",
        "\n",
        "        # Combine the set of modules\n",
        "        self.down = nn.ModuleList(down)\n",
        "\n",
        "        # Middle block\n",
        "        self.middle = MiddleBlock(out_channels, n_channels * 4, )\n",
        "\n",
        "        # Second half of U-Net - increasing resolution\n",
        "        up = []\n",
        "        # Number of channels\n",
        "        in_channels = out_channels\n",
        "        # For each resolution\n",
        "        for i in reversed(range(n_resolutions)):\n",
        "            # `n_blocks` at the same resolution\n",
        "            out_channels = in_channels\n",
        "            for _ in range(n_blocks):\n",
        "                up.append(UpBlock(in_channels, out_channels, n_channels * 4, is_attn[i]))\n",
        "            # Final block to reduce the number of channels\n",
        "            out_channels = in_channels // ch_mults[i]\n",
        "            up.append(UpBlock(in_channels, out_channels, n_channels * 4, is_attn[i]))\n",
        "            in_channels = out_channels\n",
        "            # Up sample at all resolutions except last\n",
        "            if i > 0:\n",
        "                up.append(Upsample(in_channels))\n",
        "\n",
        "        # Combine the set of modules\n",
        "        self.up = nn.ModuleList(up)\n",
        "\n",
        "        # Final normalization and convolution layer\n",
        "        self.norm = nn.GroupNorm(8, n_channels)\n",
        "        self.act = Swish()\n",
        "        self.final = nn.Conv2d(in_channels, image_channels, kernel_size=(3, 3), padding=(1, 1))\n",
        "\n",
        "    def forward(self, x: torch.Tensor, t: torch.Tensor):\n",
        "        \"\"\"\n",
        "          Args:\n",
        "            x: torch.Tensor\n",
        "            Input with shape [batch_size, in_channels, height, width]\n",
        "            t: torch.Tensor\n",
        "            Timestep shape [batch_size]\n",
        "        \"\"\"\n",
        "        # Get time-step embeddings\n",
        "        t = self.time_emb(t)\n",
        "\n",
        "        # Get image projection\n",
        "        x = self.image_proj(x)\n",
        "\n",
        "        # `h` will store outputs at each resolution for skip connection\n",
        "        h = [x]\n",
        "        # First half of U-Net\n",
        "        for m in self.down:\n",
        "            x = m(x, t)\n",
        "            h.append(x)\n",
        "\n",
        "        # Middle (bottom)\n",
        "        x = self.middle(x, t)\n",
        "\n",
        "        # Second half of U-Net\n",
        "        for m in self.up:\n",
        "            if isinstance(m, Upsample):\n",
        "                x = m(x, t)\n",
        "            else:\n",
        "                # Get the skip connection from first half of U-Net and concatenate\n",
        "                s = h.pop()\n",
        "                x = torch.cat((x, s), dim=1)\n",
        "                #\n",
        "                x = m(x, t)\n",
        "\n",
        "        # Final normalization and convolution\n",
        "        return self.final(self.act(self.norm(x)))"
      ]
    },
    {
      "cell_type": "code",
      "execution_count": 11,
      "metadata": {
        "colab": {
          "base_uri": "https://localhost:8080/"
        },
        "id": "s98-xX1CZfWJ",
        "outputId": "7f31e92d-d255-4faf-c671-8e02c01a7041"
      },
      "outputs": [
        {
          "output_type": "execute_result",
          "data": {
            "text/plain": [
              "torch.Size([10, 3, 32, 32])"
            ]
          },
          "metadata": {},
          "execution_count": 11
        }
      ],
      "source": [
        "#@title U-Net in action on dummy data:\n",
        "\n",
        "# A dummy batch of 10 3-channel 32px images\n",
        "x = torch.randn(10, 3, 32, 32)\n",
        "\n",
        "# 't' - what timestep are we on\n",
        "t = torch.tensor([50.], dtype=torch.long)\n",
        "\n",
        "# Define the unet model\n",
        "unet = UNet()\n",
        "\n",
        "# The foreward pass (takes both x and t)\n",
        "model_output = unet(x, t)\n",
        "\n",
        "# The output shape matches the input.\n",
        "model_output.shape"
      ]
    },
    {
      "cell_type": "markdown",
      "metadata": {
        "id": "6v_pN7VuLysj"
      },
      "source": [
        "## 2.3' Data Loader"
      ]
    },
    {
      "cell_type": "code",
      "execution_count": 12,
      "metadata": {
        "id": "vBFmTE8HLysj"
      },
      "outputs": [],
      "source": [
        "from torchvision import transforms\n",
        "from torch.utils.data import Dataset\n",
        "\n",
        "class MyCifar10(Dataset):\n",
        "    \"\"\"\n",
        "        Implementation of Dataloader for Cifar10 Dataset Classification\n",
        "    \"\"\"\n",
        "\n",
        "    def __init__(\n",
        "        self,\n",
        "        cifar10,\n",
        "        data_mode,\n",
        "        input_normalization = None,\n",
        "        mean=(0.485, 0.456, 0.406),\n",
        "        std=(0.228, 0.224, 0.225)\n",
        "    ) -> None:\n",
        "\n",
        "        #Dataloader for loading data.\n",
        "        super().__init__()\n",
        "\n",
        "        assert data_mode in [\n",
        "            \"train\", \"test\"], \"'data_mode' must be one of this element: ['train', 'test'].\"\n",
        "\n",
        "        self.data_mode = data_mode\n",
        "\n",
        "        # images\n",
        "        self.images = cifar10[self.data_mode][\"img\"]\n",
        "\n",
        "        # labels\n",
        "        self.labels = cifar10[self.data_mode][\"label\"]\n",
        "\n",
        "\n",
        "        # Normalization\n",
        "        self.input_normalization = input_normalization\n",
        "        self.mean, self.std = mean, std\n",
        "\n",
        "        self.transfrom = transforms.ToTensor()\n",
        "        if self.input_normalization:\n",
        "            self.transfrom = transforms.Compose([\n",
        "                transforms.ToTensor(),\n",
        "                transforms.Normalize(mean=mean, std=std)\n",
        "            ])\n",
        "\n",
        "    def __getitem__(self, index):\n",
        "        # image\n",
        "        image = self.images[index]\n",
        "        image = self.transfrom(image)\n",
        "\n",
        "        # label\n",
        "        label = self.labels[index]\n",
        "\n",
        "        return image, label\n",
        "\n",
        "    def __len__(self):\n",
        "        \"\"\"\n",
        "            This function returns number of data.\n",
        "        \"\"\"\n",
        "        return len(self.images)\n"
      ]
    },
    {
      "cell_type": "markdown",
      "metadata": {
        "id": "XE0pKxnIZhzE"
      },
      "source": [
        "## 2.4 Training Time\n",
        "\n",
        "Now we need to train it to predict the noise given $x_t$ and $t$.\n",
        "\n",
        "Why not predict the denoised image directly? Mostly just due to convenience - the noise is nicely scaled with a mean of zero, and this is well-suited to being modeled with a neural network. We make it easy by tweaking our `q_xt_x0` function to return both the noised image $x_t$ and the noise itself, which will be the 'target' our network tries to produce."
      ]
    },
    {
      "cell_type": "code",
      "execution_count": 13,
      "metadata": {
        "id": "fsIcqZHJaw6Q"
      },
      "outputs": [],
      "source": [
        "import torch.nn as nn\n",
        "from torch import optim\n",
        "\n",
        "# Create the model\n",
        "unet = UNet(n_channels=32).cuda()\n",
        "\n",
        "# Set up some parameters\n",
        "n_steps = 1000\n",
        "beta = torch.linspace(0.0001, 0.04, n_steps).cuda()\n",
        "alpha = 1. - beta\n",
        "alpha_bar = torch.cumprod(alpha, dim=0)\n",
        "\n",
        "# Modified to return the noise itself as well\n",
        "def q_xt_x0(x0, t):\n",
        "\n",
        "    # Reparameterization Trick: z ~ N(mu, sigma) => z = mu + sigma * ε    where    ε ~ N(0,1)\n",
        "\n",
        "    # mu = √(alpha_bar[t]) * x[0]\n",
        "    mu = gather(alpha_bar, t) ** 0.5 * x0\n",
        "\n",
        "    # sigma = 1 - alpha_bar[t]\n",
        "    sigma = gather(1. - alpha_bar, t) ** 0.5\n",
        "\n",
        "    # ε\n",
        "    noise = torch.randn_like(x0)\n",
        "\n",
        "    xt = mu + sigma * noise\n",
        "\n",
        "    return xt, noise"
      ]
    },
    {
      "cell_type": "markdown",
      "metadata": {
        "id": "h7tMosBsLysl"
      },
      "source": [
        "### 2.4.1 Training and Testing Data Loader"
      ]
    },
    {
      "cell_type": "code",
      "execution_count": 14,
      "metadata": {
        "id": "2K5_HHO1Lysl"
      },
      "outputs": [],
      "source": [
        "batch_size = 512 # Lower if hits memory issues\n",
        "dataloader_num_worker = 2\n",
        "\n",
        "# Train data loader\n",
        "train_dataloader = MyCifar10(\n",
        "        cifar10,\n",
        "        \"train\",\n",
        ")\n",
        "\n",
        "train_dataloader = torch.utils.data.DataLoader(\n",
        "    train_dataloader,\n",
        "    batch_size=batch_size,\n",
        "    num_workers=dataloader_num_worker,\n",
        "    pin_memory=True,\n",
        "    drop_last=False,\n",
        "    shuffle=False\n",
        ")\n",
        "\n",
        "\n",
        "# test data loader\n",
        "test_dataloader = MyCifar10(\n",
        "        cifar10,\n",
        "        \"test\"\n",
        ")\n",
        "\n",
        "test_dataloader = torch.utils.data.DataLoader(\n",
        "    test_dataloader,\n",
        "    batch_size=batch_size,\n",
        "    num_workers=dataloader_num_worker,\n",
        "    pin_memory=True,\n",
        "    drop_last=False,\n",
        "    shuffle=False\n",
        ")"
      ]
    },
    {
      "cell_type": "markdown",
      "metadata": {
        "id": "frQQC_kVLysl"
      },
      "source": [
        "### 2.4.2 Diffusion Model Utilities"
      ]
    },
    {
      "cell_type": "code",
      "execution_count": 15,
      "metadata": {
        "id": "9zn3aD4-Lysl"
      },
      "outputs": [],
      "source": [
        "def sample_timesteps(num_samples):\n",
        "    return torch.randint(low=1, high=n_steps, size=(num_samples,))"
      ]
    },
    {
      "cell_type": "markdown",
      "metadata": {
        "id": "Segvnei3Lysm"
      },
      "source": [
        "### 2.4.3 Utilities"
      ]
    },
    {
      "cell_type": "code",
      "execution_count": 16,
      "metadata": {
        "id": "_lVytSznLysm"
      },
      "outputs": [],
      "source": [
        "class AverageMeter(object):\n",
        "    \"\"\"\n",
        "        computes and stores the average and current value\n",
        "    \"\"\"\n",
        "\n",
        "    def __init__(self, start_val=0, start_count=0, start_avg=0, start_sum=0):\n",
        "        self.reset()\n",
        "        self.val = start_val\n",
        "        self.avg = start_avg\n",
        "        self.sum = start_sum\n",
        "        self.count = start_count\n",
        "\n",
        "    def reset(self):\n",
        "        \"\"\"\n",
        "            Initialize 'value', 'sum', 'count', and 'avg' with 0.\n",
        "        \"\"\"\n",
        "        self.val = 0\n",
        "        self.avg = 0\n",
        "        self.sum = 0\n",
        "        self.count = 0\n",
        "\n",
        "    def update(self, val, num=1):\n",
        "        \"\"\"\n",
        "            Update 'value', 'sum', 'count', and 'avg'.\n",
        "        \"\"\"\n",
        "        self.val = val\n",
        "        self.sum += val * num\n",
        "        self.count += num\n",
        "        self.avg = self.sum / self.count"
      ]
    },
    {
      "cell_type": "markdown",
      "metadata": {
        "id": "SbsPRr-lLysm"
      },
      "source": [
        "### 2.4.4 Training for Some Epochs"
      ]
    },
    {
      "cell_type": "code",
      "execution_count": null,
      "metadata": {
        "id": "2oVLmtFiFmFa",
        "colab": {
          "base_uri": "https://localhost:8080/"
        },
        "outputId": "70cb362a-dce2-49f4-fe74-a5bac39da6de"
      },
      "outputs": [
        {
          "output_type": "stream",
          "name": "stderr",
          "text": [
            "Epoch 0/100: 100%|██████████| 98/98 [01:45<00:00,  1.08s/it, loss=0.106, lr=0.0002]\n"
          ]
        },
        {
          "output_type": "stream",
          "name": "stdout",
          "text": [
            "training_loss.avg:0.2628681731163239, best_loss:inf\n",
            "Model weights updated, Epoch=0\n"
          ]
        },
        {
          "output_type": "stream",
          "name": "stderr",
          "text": [
            "Epoch 1/100: 100%|██████████| 98/98 [01:44<00:00,  1.07s/it, loss=0.0515, lr=0.0002]\n"
          ]
        },
        {
          "output_type": "stream",
          "name": "stdout",
          "text": [
            "training_loss.avg:0.07402165131453349, best_loss:0.2628681731163239\n",
            "Model weights updated, Epoch=1\n"
          ]
        },
        {
          "output_type": "stream",
          "name": "stderr",
          "text": [
            "Epoch 2/100: 100%|██████████| 98/98 [01:44<00:00,  1.07s/it, loss=0.0423, lr=0.0002]\n"
          ]
        },
        {
          "output_type": "stream",
          "name": "stdout",
          "text": [
            "training_loss.avg:0.04759401383296567, best_loss:0.07402165131453349\n",
            "Model weights updated, Epoch=2\n"
          ]
        },
        {
          "output_type": "stream",
          "name": "stderr",
          "text": [
            "Epoch 3/100: 100%|██████████| 98/98 [01:44<00:00,  1.07s/it, loss=0.0341, lr=0.0002]\n"
          ]
        },
        {
          "output_type": "stream",
          "name": "stdout",
          "text": [
            "training_loss.avg:0.03706260453149372, best_loss:0.04759401383296567\n",
            "Model weights updated, Epoch=3\n"
          ]
        },
        {
          "output_type": "stream",
          "name": "stderr",
          "text": [
            "Epoch 4/100: 100%|██████████| 98/98 [01:44<00:00,  1.07s/it, loss=0.0249, lr=0.0002]\n"
          ]
        },
        {
          "output_type": "stream",
          "name": "stdout",
          "text": [
            "training_loss.avg:0.03157369049303994, best_loss:0.03706260453149372\n",
            "Model weights updated, Epoch=4\n"
          ]
        },
        {
          "output_type": "stream",
          "name": "stderr",
          "text": [
            "Epoch 5/100: 100%|██████████| 98/98 [01:44<00:00,  1.07s/it, loss=0.03, lr=0.0002]\n"
          ]
        },
        {
          "output_type": "stream",
          "name": "stdout",
          "text": [
            "training_loss.avg:0.028579947747746293, best_loss:0.03157369049303994\n",
            "Model weights updated, Epoch=5\n"
          ]
        },
        {
          "output_type": "stream",
          "name": "stderr",
          "text": [
            "Epoch 6/100: 100%|██████████| 98/98 [01:44<00:00,  1.07s/it, loss=0.0276, lr=0.0002]\n"
          ]
        },
        {
          "output_type": "stream",
          "name": "stdout",
          "text": [
            "training_loss.avg:0.025760945730975697, best_loss:0.028579947747746293\n",
            "Model weights updated, Epoch=6\n"
          ]
        },
        {
          "output_type": "stream",
          "name": "stderr",
          "text": [
            "Epoch 7/100: 100%|██████████| 98/98 [01:44<00:00,  1.07s/it, loss=0.0226, lr=0.0002]\n"
          ]
        },
        {
          "output_type": "stream",
          "name": "stdout",
          "text": [
            "training_loss.avg:0.02380277049176547, best_loss:0.025760945730975697\n",
            "Model weights updated, Epoch=7\n"
          ]
        },
        {
          "output_type": "stream",
          "name": "stderr",
          "text": [
            "Epoch 8/100: 100%|██████████| 98/98 [01:44<00:00,  1.07s/it, loss=0.0249, lr=0.0002]\n"
          ]
        },
        {
          "output_type": "stream",
          "name": "stdout",
          "text": [
            "training_loss.avg:0.022865554222799078, best_loss:0.02380277049176547\n",
            "Model weights updated, Epoch=8\n"
          ]
        },
        {
          "output_type": "stream",
          "name": "stderr",
          "text": [
            "Epoch 9/100: 100%|██████████| 98/98 [01:45<00:00,  1.07s/it, loss=0.0192, lr=0.0002]\n"
          ]
        },
        {
          "output_type": "stream",
          "name": "stdout",
          "text": [
            "training_loss.avg:0.021827311083978534, best_loss:0.022865554222799078\n",
            "Model weights updated, Epoch=9\n"
          ]
        },
        {
          "output_type": "stream",
          "name": "stderr",
          "text": [
            "Epoch 10/100: 100%|██████████| 98/98 [01:45<00:00,  1.07s/it, loss=0.0237, lr=0.0002]\n"
          ]
        },
        {
          "output_type": "stream",
          "name": "stdout",
          "text": [
            "training_loss.avg:0.02085287036488251, best_loss:0.021827311083978534\n",
            "Model weights updated, Epoch=10\n"
          ]
        },
        {
          "output_type": "stream",
          "name": "stderr",
          "text": [
            "Epoch 11/100: 100%|██████████| 98/98 [01:45<00:00,  1.07s/it, loss=0.0221, lr=0.0002]\n"
          ]
        },
        {
          "output_type": "stream",
          "name": "stdout",
          "text": [
            "training_loss.avg:0.02039849665966265, best_loss:0.02085287036488251\n",
            "Model weights updated, Epoch=11\n"
          ]
        },
        {
          "output_type": "stream",
          "name": "stderr",
          "text": [
            "Epoch 12/100: 100%|██████████| 98/98 [01:44<00:00,  1.07s/it, loss=0.0209, lr=0.0002]\n"
          ]
        },
        {
          "output_type": "stream",
          "name": "stdout",
          "text": [
            "training_loss.avg:0.01927551203312314, best_loss:0.02039849665966265\n",
            "Model weights updated, Epoch=12\n"
          ]
        },
        {
          "output_type": "stream",
          "name": "stderr",
          "text": [
            "Epoch 13/100: 100%|██████████| 98/98 [01:44<00:00,  1.07s/it, loss=0.0155, lr=0.0002]\n"
          ]
        },
        {
          "output_type": "stream",
          "name": "stdout",
          "text": [
            "training_loss.avg:0.019203200708238447, best_loss:0.01927551203312314\n",
            "Model weights updated, Epoch=13\n"
          ]
        },
        {
          "output_type": "stream",
          "name": "stderr",
          "text": [
            "Epoch 14/100: 100%|██████████| 98/98 [01:44<00:00,  1.07s/it, loss=0.016, lr=0.0002]\n"
          ]
        },
        {
          "output_type": "stream",
          "name": "stdout",
          "text": [
            "training_loss.avg:0.01885762146427011, best_loss:0.019203200708238447\n",
            "Model weights updated, Epoch=14\n"
          ]
        },
        {
          "output_type": "stream",
          "name": "stderr",
          "text": [
            "Epoch 15/100: 100%|██████████| 98/98 [01:44<00:00,  1.07s/it, loss=0.0188, lr=0.0002]\n"
          ]
        },
        {
          "output_type": "stream",
          "name": "stdout",
          "text": [
            "training_loss.avg:0.018024261537179048, best_loss:0.01885762146427011\n",
            "Model weights updated, Epoch=15\n"
          ]
        },
        {
          "output_type": "stream",
          "name": "stderr",
          "text": [
            "Epoch 16/100: 100%|██████████| 98/98 [01:45<00:00,  1.07s/it, loss=0.017, lr=0.0002]\n"
          ]
        },
        {
          "output_type": "stream",
          "name": "stdout",
          "text": [
            "training_loss.avg:0.017787169883673896, best_loss:0.018024261537179048\n",
            "Model weights updated, Epoch=16\n"
          ]
        },
        {
          "output_type": "stream",
          "name": "stderr",
          "text": [
            "Epoch 17/100: 100%|██████████| 98/98 [01:45<00:00,  1.07s/it, loss=0.0186, lr=0.0002]\n"
          ]
        },
        {
          "output_type": "stream",
          "name": "stdout",
          "text": [
            "training_loss.avg:0.018125523195354914, best_loss:0.017787169883673896\n"
          ]
        },
        {
          "output_type": "stream",
          "name": "stderr",
          "text": [
            "Epoch 18/100: 100%|██████████| 98/98 [01:45<00:00,  1.07s/it, loss=0.0163, lr=0.0002]\n"
          ]
        },
        {
          "output_type": "stream",
          "name": "stdout",
          "text": [
            "training_loss.avg:0.016887878219844128, best_loss:0.017787169883673896\n",
            "Model weights updated, Epoch=18\n"
          ]
        },
        {
          "output_type": "stream",
          "name": "stderr",
          "text": [
            "Epoch 19/100: 100%|██████████| 98/98 [01:45<00:00,  1.07s/it, loss=0.0168, lr=0.0002]\n"
          ]
        },
        {
          "output_type": "stream",
          "name": "stdout",
          "text": [
            "training_loss.avg:0.017158400457428426, best_loss:0.016887878219844128\n"
          ]
        },
        {
          "output_type": "stream",
          "name": "stderr",
          "text": [
            "Epoch 20/100: 100%|██████████| 98/98 [01:44<00:00,  1.07s/it, loss=0.0181, lr=0.0002]\n"
          ]
        },
        {
          "output_type": "stream",
          "name": "stdout",
          "text": [
            "training_loss.avg:0.01657346835626023, best_loss:0.016887878219844128\n",
            "Model weights updated, Epoch=20\n"
          ]
        },
        {
          "output_type": "stream",
          "name": "stderr",
          "text": [
            "Epoch 21/100: 100%|██████████| 98/98 [01:45<00:00,  1.07s/it, loss=0.014, lr=0.0002]\n"
          ]
        },
        {
          "output_type": "stream",
          "name": "stdout",
          "text": [
            "training_loss.avg:0.016626412153472096, best_loss:0.01657346835626023\n"
          ]
        },
        {
          "output_type": "stream",
          "name": "stderr",
          "text": [
            "Epoch 22/100: 100%|██████████| 98/98 [01:45<00:00,  1.07s/it, loss=0.0172, lr=0.0002]\n"
          ]
        },
        {
          "output_type": "stream",
          "name": "stdout",
          "text": [
            "training_loss.avg:0.016288245410411333, best_loss:0.01657346835626023\n",
            "Model weights updated, Epoch=22\n"
          ]
        },
        {
          "output_type": "stream",
          "name": "stderr",
          "text": [
            "Epoch 23/100: 100%|██████████| 98/98 [01:45<00:00,  1.07s/it, loss=0.0136, lr=0.0002]\n"
          ]
        },
        {
          "output_type": "stream",
          "name": "stdout",
          "text": [
            "training_loss.avg:0.016183037938055943, best_loss:0.016288245410411333\n",
            "Model weights updated, Epoch=23\n"
          ]
        },
        {
          "output_type": "stream",
          "name": "stderr",
          "text": [
            "Epoch 24/100: 100%|██████████| 98/98 [01:45<00:00,  1.07s/it, loss=0.0201, lr=0.0002]\n"
          ]
        },
        {
          "output_type": "stream",
          "name": "stdout",
          "text": [
            "training_loss.avg:0.01635382422341072, best_loss:0.016183037938055943\n"
          ]
        },
        {
          "output_type": "stream",
          "name": "stderr",
          "text": [
            "Epoch 25/100: 100%|██████████| 98/98 [01:45<00:00,  1.07s/it, loss=0.0147, lr=0.0002]\n"
          ]
        },
        {
          "output_type": "stream",
          "name": "stdout",
          "text": [
            "training_loss.avg:0.015696108616812497, best_loss:0.016183037938055943\n",
            "Model weights updated, Epoch=25\n"
          ]
        },
        {
          "output_type": "stream",
          "name": "stderr",
          "text": [
            "Epoch 26/100: 100%|██████████| 98/98 [01:44<00:00,  1.07s/it, loss=0.0159, lr=0.0002]\n"
          ]
        },
        {
          "output_type": "stream",
          "name": "stdout",
          "text": [
            "training_loss.avg:0.0154394739953687, best_loss:0.015696108616812497\n",
            "Model weights updated, Epoch=26\n"
          ]
        },
        {
          "output_type": "stream",
          "name": "stderr",
          "text": [
            "Epoch 27/100: 100%|██████████| 98/98 [01:45<00:00,  1.07s/it, loss=0.0163, lr=0.0002]\n"
          ]
        },
        {
          "output_type": "stream",
          "name": "stdout",
          "text": [
            "training_loss.avg:0.015398029874706147, best_loss:0.0154394739953687\n",
            "Model weights updated, Epoch=27\n"
          ]
        },
        {
          "output_type": "stream",
          "name": "stderr",
          "text": [
            "Epoch 28/100: 100%|██████████| 98/98 [01:44<00:00,  1.07s/it, loss=0.0159, lr=0.0002]\n"
          ]
        },
        {
          "output_type": "stream",
          "name": "stdout",
          "text": [
            "training_loss.avg:0.015426329080471578, best_loss:0.015398029874706147\n"
          ]
        },
        {
          "output_type": "stream",
          "name": "stderr",
          "text": [
            "Epoch 29/100: 100%|██████████| 98/98 [01:45<00:00,  1.07s/it, loss=0.0153, lr=0.0002]\n"
          ]
        },
        {
          "output_type": "stream",
          "name": "stdout",
          "text": [
            "training_loss.avg:0.015427952176150011, best_loss:0.015398029874706147\n"
          ]
        },
        {
          "output_type": "stream",
          "name": "stderr",
          "text": [
            "Epoch 30/100: 100%|██████████| 98/98 [01:45<00:00,  1.07s/it, loss=0.0138, lr=0.0002]\n"
          ]
        },
        {
          "output_type": "stream",
          "name": "stdout",
          "text": [
            "training_loss.avg:0.0153492057733998, best_loss:0.015398029874706147\n",
            "Model weights updated, Epoch=30\n"
          ]
        },
        {
          "output_type": "stream",
          "name": "stderr",
          "text": [
            "Epoch 31/100: 100%|██████████| 98/98 [01:45<00:00,  1.07s/it, loss=0.0157, lr=0.0002]\n"
          ]
        },
        {
          "output_type": "stream",
          "name": "stdout",
          "text": [
            "training_loss.avg:0.015385657035726674, best_loss:0.0153492057733998\n"
          ]
        },
        {
          "output_type": "stream",
          "name": "stderr",
          "text": [
            "Epoch 32/100: 100%|██████████| 98/98 [01:45<00:00,  1.07s/it, loss=0.0152, lr=0.0002]\n"
          ]
        },
        {
          "output_type": "stream",
          "name": "stdout",
          "text": [
            "training_loss.avg:0.015176287462592733, best_loss:0.0153492057733998\n",
            "Model weights updated, Epoch=32\n"
          ]
        },
        {
          "output_type": "stream",
          "name": "stderr",
          "text": [
            "Epoch 33/100: 100%|██████████| 98/98 [01:44<00:00,  1.07s/it, loss=0.0133, lr=0.0002]\n"
          ]
        },
        {
          "output_type": "stream",
          "name": "stdout",
          "text": [
            "training_loss.avg:0.015206093728846433, best_loss:0.015176287462592733\n"
          ]
        },
        {
          "output_type": "stream",
          "name": "stderr",
          "text": [
            "Epoch 34/100: 100%|██████████| 98/98 [01:44<00:00,  1.07s/it, loss=0.0138, lr=0.0002]\n"
          ]
        },
        {
          "output_type": "stream",
          "name": "stdout",
          "text": [
            "training_loss.avg:0.015299959668927655, best_loss:0.015176287462592733\n"
          ]
        },
        {
          "output_type": "stream",
          "name": "stderr",
          "text": [
            "Epoch 35/100: 100%|██████████| 98/98 [01:45<00:00,  1.07s/it, loss=0.0136, lr=0.0002]\n"
          ]
        },
        {
          "output_type": "stream",
          "name": "stdout",
          "text": [
            "training_loss.avg:0.015150328252312481, best_loss:0.015176287462592733\n",
            "Model weights updated, Epoch=35\n"
          ]
        },
        {
          "output_type": "stream",
          "name": "stderr",
          "text": [
            "Epoch 36/100: 100%|██████████| 98/98 [01:44<00:00,  1.07s/it, loss=0.0171, lr=0.0002]\n"
          ]
        },
        {
          "output_type": "stream",
          "name": "stdout",
          "text": [
            "training_loss.avg:0.014700506965876842, best_loss:0.015150328252312481\n",
            "Model weights updated, Epoch=36\n"
          ]
        },
        {
          "output_type": "stream",
          "name": "stderr",
          "text": [
            "Epoch 37/100: 100%|██████████| 98/98 [01:44<00:00,  1.07s/it, loss=0.0147, lr=0.0002]\n"
          ]
        },
        {
          "output_type": "stream",
          "name": "stdout",
          "text": [
            "training_loss.avg:0.014587335440577293, best_loss:0.014700506965876842\n",
            "Model weights updated, Epoch=37\n"
          ]
        },
        {
          "output_type": "stream",
          "name": "stderr",
          "text": [
            "Epoch 38/100: 100%|██████████| 98/98 [01:44<00:00,  1.07s/it, loss=0.0151, lr=0.0002]\n"
          ]
        },
        {
          "output_type": "stream",
          "name": "stdout",
          "text": [
            "training_loss.avg:0.014462235070080782, best_loss:0.014587335440577293\n",
            "Model weights updated, Epoch=38\n"
          ]
        },
        {
          "output_type": "stream",
          "name": "stderr",
          "text": [
            "Epoch 39/100: 100%|██████████| 98/98 [01:44<00:00,  1.07s/it, loss=0.0127, lr=0.0002]\n"
          ]
        },
        {
          "output_type": "stream",
          "name": "stdout",
          "text": [
            "training_loss.avg:0.014689697750977107, best_loss:0.014462235070080782\n"
          ]
        },
        {
          "output_type": "stream",
          "name": "stderr",
          "text": [
            "Epoch 40/100: 100%|██████████| 98/98 [01:44<00:00,  1.07s/it, loss=0.0135, lr=0.0002]\n"
          ]
        },
        {
          "output_type": "stream",
          "name": "stdout",
          "text": [
            "training_loss.avg:0.014721013548574885, best_loss:0.014462235070080782\n"
          ]
        },
        {
          "output_type": "stream",
          "name": "stderr",
          "text": [
            "Epoch 41/100: 100%|██████████| 98/98 [01:44<00:00,  1.07s/it, loss=0.0116, lr=0.0002]\n"
          ]
        },
        {
          "output_type": "stream",
          "name": "stdout",
          "text": [
            "training_loss.avg:0.01416788135218073, best_loss:0.014462235070080782\n",
            "Model weights updated, Epoch=41\n"
          ]
        },
        {
          "output_type": "stream",
          "name": "stderr",
          "text": [
            "Epoch 42/100: 100%|██████████| 98/98 [01:44<00:00,  1.07s/it, loss=0.0171, lr=0.0002]\n"
          ]
        },
        {
          "output_type": "stream",
          "name": "stdout",
          "text": [
            "training_loss.avg:0.014595241361886871, best_loss:0.01416788135218073\n"
          ]
        },
        {
          "output_type": "stream",
          "name": "stderr",
          "text": [
            "Epoch 43/100: 100%|██████████| 98/98 [01:44<00:00,  1.07s/it, loss=0.0143, lr=0.0002]\n"
          ]
        },
        {
          "output_type": "stream",
          "name": "stdout",
          "text": [
            "training_loss.avg:0.014107141919358045, best_loss:0.01416788135218073\n",
            "Model weights updated, Epoch=43\n"
          ]
        },
        {
          "output_type": "stream",
          "name": "stderr",
          "text": [
            "Epoch 44/100: 100%|██████████| 98/98 [01:44<00:00,  1.07s/it, loss=0.0156, lr=0.0002]\n"
          ]
        },
        {
          "output_type": "stream",
          "name": "stdout",
          "text": [
            "training_loss.avg:0.014585232115065565, best_loss:0.014107141919358045\n"
          ]
        },
        {
          "output_type": "stream",
          "name": "stderr",
          "text": [
            "Epoch 45/100: 100%|██████████| 98/98 [01:44<00:00,  1.07s/it, loss=0.0118, lr=0.0002]\n"
          ]
        },
        {
          "output_type": "stream",
          "name": "stdout",
          "text": [
            "training_loss.avg:0.014201404080175015, best_loss:0.014107141919358045\n"
          ]
        },
        {
          "output_type": "stream",
          "name": "stderr",
          "text": [
            "Epoch 46/100: 100%|██████████| 98/98 [01:44<00:00,  1.07s/it, loss=0.013, lr=0.0002]\n"
          ]
        },
        {
          "output_type": "stream",
          "name": "stdout",
          "text": [
            "training_loss.avg:0.014430008182416156, best_loss:0.014107141919358045\n"
          ]
        },
        {
          "output_type": "stream",
          "name": "stderr",
          "text": [
            "Epoch 47/100: 100%|██████████| 98/98 [01:44<00:00,  1.07s/it, loss=0.0162, lr=0.0002]\n"
          ]
        },
        {
          "output_type": "stream",
          "name": "stdout",
          "text": [
            "training_loss.avg:0.014459848527473455, best_loss:0.014107141919358045\n"
          ]
        },
        {
          "output_type": "stream",
          "name": "stderr",
          "text": [
            "Epoch 48/100: 100%|██████████| 98/98 [01:45<00:00,  1.07s/it, loss=0.016, lr=0.0002]\n"
          ]
        },
        {
          "output_type": "stream",
          "name": "stdout",
          "text": [
            "training_loss.avg:0.01406406277638613, best_loss:0.014107141919358045\n",
            "Model weights updated, Epoch=48\n"
          ]
        },
        {
          "output_type": "stream",
          "name": "stderr",
          "text": [
            "Epoch 49/100: 100%|██████████| 98/98 [01:45<00:00,  1.07s/it, loss=0.0111, lr=0.0002]\n"
          ]
        },
        {
          "output_type": "stream",
          "name": "stdout",
          "text": [
            "training_loss.avg:0.013944130989589862, best_loss:0.01406406277638613\n",
            "Model weights updated, Epoch=49\n"
          ]
        },
        {
          "output_type": "stream",
          "name": "stderr",
          "text": [
            "Epoch 50/100: 100%|██████████| 98/98 [01:45<00:00,  1.07s/it, loss=0.016, lr=0.0002]\n"
          ]
        },
        {
          "output_type": "stream",
          "name": "stdout",
          "text": [
            "training_loss.avg:0.014145043079874344, best_loss:0.013944130989589862\n"
          ]
        },
        {
          "output_type": "stream",
          "name": "stderr",
          "text": [
            "Epoch 51/100: 100%|██████████| 98/98 [01:45<00:00,  1.07s/it, loss=0.0127, lr=0.0002]\n"
          ]
        },
        {
          "output_type": "stream",
          "name": "stdout",
          "text": [
            "training_loss.avg:0.013863451142168167, best_loss:0.013944130989589862\n",
            "Model weights updated, Epoch=51\n"
          ]
        },
        {
          "output_type": "stream",
          "name": "stderr",
          "text": [
            "Epoch 52/100: 100%|██████████| 98/98 [01:45<00:00,  1.07s/it, loss=0.0155, lr=0.0002]\n"
          ]
        },
        {
          "output_type": "stream",
          "name": "stdout",
          "text": [
            "training_loss.avg:0.014140205163204548, best_loss:0.013863451142168167\n"
          ]
        },
        {
          "output_type": "stream",
          "name": "stderr",
          "text": [
            "Epoch 53/100: 100%|██████████| 98/98 [01:45<00:00,  1.07s/it, loss=0.0156, lr=0.0002]\n"
          ]
        },
        {
          "output_type": "stream",
          "name": "stdout",
          "text": [
            "training_loss.avg:0.014331587571270612, best_loss:0.013863451142168167\n"
          ]
        },
        {
          "output_type": "stream",
          "name": "stderr",
          "text": [
            "Epoch 54/100: 100%|██████████| 98/98 [01:45<00:00,  1.07s/it, loss=0.016, lr=0.0002]\n"
          ]
        },
        {
          "output_type": "stream",
          "name": "stdout",
          "text": [
            "training_loss.avg:0.014055051831338478, best_loss:0.013863451142168167\n"
          ]
        },
        {
          "output_type": "stream",
          "name": "stderr",
          "text": [
            "Epoch 55/100: 100%|██████████| 98/98 [01:45<00:00,  1.07s/it, loss=0.0153, lr=0.0002]\n"
          ]
        },
        {
          "output_type": "stream",
          "name": "stdout",
          "text": [
            "training_loss.avg:0.014004846236535482, best_loss:0.013863451142168167\n"
          ]
        },
        {
          "output_type": "stream",
          "name": "stderr",
          "text": [
            "Epoch 56/100: 100%|██████████| 98/98 [01:45<00:00,  1.07s/it, loss=0.0189, lr=0.0002]\n"
          ]
        },
        {
          "output_type": "stream",
          "name": "stdout",
          "text": [
            "training_loss.avg:0.013728096967144889, best_loss:0.013863451142168167\n",
            "Model weights updated, Epoch=56\n"
          ]
        },
        {
          "output_type": "stream",
          "name": "stderr",
          "text": [
            "Epoch 57/100: 100%|██████████| 98/98 [01:45<00:00,  1.07s/it, loss=0.0125, lr=0.0002]\n"
          ]
        },
        {
          "output_type": "stream",
          "name": "stdout",
          "text": [
            "training_loss.avg:0.013606901926805779, best_loss:0.013728096967144889\n",
            "Model weights updated, Epoch=57\n"
          ]
        },
        {
          "output_type": "stream",
          "name": "stderr",
          "text": [
            "Epoch 58/100: 100%|██████████| 98/98 [01:45<00:00,  1.07s/it, loss=0.0128, lr=0.0002]\n"
          ]
        },
        {
          "output_type": "stream",
          "name": "stdout",
          "text": [
            "training_loss.avg:0.013939915909146776, best_loss:0.013606901926805779\n"
          ]
        },
        {
          "output_type": "stream",
          "name": "stderr",
          "text": [
            "Epoch 59/100: 100%|██████████| 98/98 [01:44<00:00,  1.07s/it, loss=0.0162, lr=0.0002]\n"
          ]
        },
        {
          "output_type": "stream",
          "name": "stdout",
          "text": [
            "training_loss.avg:0.013650796053056814, best_loss:0.013606901926805779\n"
          ]
        },
        {
          "output_type": "stream",
          "name": "stderr",
          "text": [
            "Epoch 60/100: 100%|██████████| 98/98 [01:45<00:00,  1.07s/it, loss=0.0139, lr=0.0002]\n"
          ]
        },
        {
          "output_type": "stream",
          "name": "stdout",
          "text": [
            "training_loss.avg:0.013745533587525085, best_loss:0.013606901926805779\n"
          ]
        },
        {
          "output_type": "stream",
          "name": "stderr",
          "text": [
            "Epoch 61/100: 100%|██████████| 98/98 [01:45<00:00,  1.07s/it, loss=0.0169, lr=0.0002]\n"
          ]
        },
        {
          "output_type": "stream",
          "name": "stdout",
          "text": [
            "training_loss.avg:0.013741757112498186, best_loss:0.013606901926805779\n"
          ]
        },
        {
          "output_type": "stream",
          "name": "stderr",
          "text": [
            "Epoch 62/100: 100%|██████████| 98/98 [01:45<00:00,  1.07s/it, loss=0.0133, lr=0.0002]\n"
          ]
        },
        {
          "output_type": "stream",
          "name": "stdout",
          "text": [
            "training_loss.avg:0.013494975769854322, best_loss:0.013606901926805779\n",
            "Model weights updated, Epoch=62\n"
          ]
        },
        {
          "output_type": "stream",
          "name": "stderr",
          "text": [
            "Epoch 63/100: 100%|██████████| 98/98 [01:45<00:00,  1.07s/it, loss=0.0137, lr=0.0002]\n"
          ]
        },
        {
          "output_type": "stream",
          "name": "stdout",
          "text": [
            "training_loss.avg:0.013793090652978542, best_loss:0.013494975769854322\n"
          ]
        },
        {
          "output_type": "stream",
          "name": "stderr",
          "text": [
            "Epoch 64/100: 100%|██████████| 98/98 [01:44<00:00,  1.07s/it, loss=0.0179, lr=0.0002]\n"
          ]
        },
        {
          "output_type": "stream",
          "name": "stdout",
          "text": [
            "training_loss.avg:0.013799995316990785, best_loss:0.013494975769854322\n"
          ]
        },
        {
          "output_type": "stream",
          "name": "stderr",
          "text": [
            "Epoch 65/100: 100%|██████████| 98/98 [01:44<00:00,  1.07s/it, loss=0.0158, lr=0.0002]\n"
          ]
        },
        {
          "output_type": "stream",
          "name": "stdout",
          "text": [
            "training_loss.avg:0.013889682650261996, best_loss:0.013494975769854322\n"
          ]
        },
        {
          "output_type": "stream",
          "name": "stderr",
          "text": [
            "Epoch 66/100: 100%|██████████| 98/98 [01:45<00:00,  1.07s/it, loss=0.015, lr=0.0002]\n"
          ]
        },
        {
          "output_type": "stream",
          "name": "stdout",
          "text": [
            "training_loss.avg:0.01369504110735594, best_loss:0.013494975769854322\n"
          ]
        },
        {
          "output_type": "stream",
          "name": "stderr",
          "text": [
            "Epoch 67/100: 100%|██████████| 98/98 [01:45<00:00,  1.07s/it, loss=0.0113, lr=0.0002]\n"
          ]
        },
        {
          "output_type": "stream",
          "name": "stdout",
          "text": [
            "training_loss.avg:0.013845134716556996, best_loss:0.013494975769854322\n"
          ]
        },
        {
          "output_type": "stream",
          "name": "stderr",
          "text": [
            "Epoch 68/100: 100%|██████████| 98/98 [01:44<00:00,  1.07s/it, loss=0.0146, lr=0.0002]\n"
          ]
        },
        {
          "output_type": "stream",
          "name": "stdout",
          "text": [
            "training_loss.avg:0.013722245068270333, best_loss:0.013494975769854322\n"
          ]
        },
        {
          "output_type": "stream",
          "name": "stderr",
          "text": [
            "Epoch 69/100: 100%|██████████| 98/98 [01:44<00:00,  1.07s/it, loss=0.0108, lr=2e-5]\n"
          ]
        },
        {
          "output_type": "stream",
          "name": "stdout",
          "text": [
            "training_loss.avg:0.0136828818263448, best_loss:0.013494975769854322\n"
          ]
        },
        {
          "output_type": "stream",
          "name": "stderr",
          "text": [
            "Epoch 70/100: 100%|██████████| 98/98 [01:45<00:00,  1.07s/it, loss=0.0124, lr=2e-5]\n"
          ]
        },
        {
          "output_type": "stream",
          "name": "stdout",
          "text": [
            "training_loss.avg:0.01329771331416405, best_loss:0.013494975769854322\n",
            "Model weights updated, Epoch=70\n"
          ]
        },
        {
          "output_type": "stream",
          "name": "stderr",
          "text": [
            "Epoch 71/100: 100%|██████████| 98/98 [01:45<00:00,  1.07s/it, loss=0.0142, lr=2e-5]\n"
          ]
        },
        {
          "output_type": "stream",
          "name": "stdout",
          "text": [
            "training_loss.avg:0.01338139824493199, best_loss:0.01329771331416405\n"
          ]
        },
        {
          "output_type": "stream",
          "name": "stderr",
          "text": [
            "Epoch 72/100: 100%|██████████| 98/98 [01:44<00:00,  1.07s/it, loss=0.00988, lr=2e-5]\n"
          ]
        },
        {
          "output_type": "stream",
          "name": "stdout",
          "text": [
            "training_loss.avg:0.013626479401196144, best_loss:0.01329771331416405\n"
          ]
        },
        {
          "output_type": "stream",
          "name": "stderr",
          "text": [
            "Epoch 73/100: 100%|██████████| 98/98 [01:45<00:00,  1.07s/it, loss=0.0126, lr=2e-5]\n"
          ]
        },
        {
          "output_type": "stream",
          "name": "stdout",
          "text": [
            "training_loss.avg:0.013358396107368931, best_loss:0.01329771331416405\n"
          ]
        },
        {
          "output_type": "stream",
          "name": "stderr",
          "text": [
            "Epoch 74/100: 100%|██████████| 98/98 [01:45<00:00,  1.07s/it, loss=0.0148, lr=2e-5]\n"
          ]
        },
        {
          "output_type": "stream",
          "name": "stdout",
          "text": [
            "training_loss.avg:0.012994041029667976, best_loss:0.01329771331416405\n",
            "Model weights updated, Epoch=74\n"
          ]
        },
        {
          "output_type": "stream",
          "name": "stderr",
          "text": [
            "Epoch 75/100: 100%|██████████| 98/98 [01:45<00:00,  1.07s/it, loss=0.0146, lr=2e-5]\n"
          ]
        },
        {
          "output_type": "stream",
          "name": "stdout",
          "text": [
            "training_loss.avg:0.013467744439460185, best_loss:0.012994041029667976\n"
          ]
        },
        {
          "output_type": "stream",
          "name": "stderr",
          "text": [
            "Epoch 76/100: 100%|██████████| 98/98 [01:45<00:00,  1.07s/it, loss=0.0128, lr=2e-5]\n"
          ]
        },
        {
          "output_type": "stream",
          "name": "stdout",
          "text": [
            "training_loss.avg:0.013377808880212963, best_loss:0.012994041029667976\n"
          ]
        },
        {
          "output_type": "stream",
          "name": "stderr",
          "text": [
            "Epoch 77/100: 100%|██████████| 98/98 [01:44<00:00,  1.07s/it, loss=0.0129, lr=2e-5]\n"
          ]
        },
        {
          "output_type": "stream",
          "name": "stdout",
          "text": [
            "training_loss.avg:0.013239510651981952, best_loss:0.012994041029667976\n"
          ]
        },
        {
          "output_type": "stream",
          "name": "stderr",
          "text": [
            "Epoch 78/100: 100%|██████████| 98/98 [01:45<00:00,  1.07s/it, loss=0.0133, lr=2e-5]\n"
          ]
        },
        {
          "output_type": "stream",
          "name": "stdout",
          "text": [
            "training_loss.avg:0.013319668274524868, best_loss:0.012994041029667976\n"
          ]
        },
        {
          "output_type": "stream",
          "name": "stderr",
          "text": [
            "Epoch 79/100: 100%|██████████| 98/98 [01:44<00:00,  1.07s/it, loss=0.0144, lr=2e-5]\n"
          ]
        },
        {
          "output_type": "stream",
          "name": "stdout",
          "text": [
            "training_loss.avg:0.013458465701159167, best_loss:0.012994041029667976\n"
          ]
        },
        {
          "output_type": "stream",
          "name": "stderr",
          "text": [
            "Epoch 80/100: 100%|██████████| 98/98 [01:45<00:00,  1.07s/it, loss=0.0131, lr=2e-5]\n"
          ]
        },
        {
          "output_type": "stream",
          "name": "stdout",
          "text": [
            "training_loss.avg:0.012959932784873004, best_loss:0.012994041029667976\n",
            "Model weights updated, Epoch=80\n"
          ]
        },
        {
          "output_type": "stream",
          "name": "stderr",
          "text": [
            "Epoch 81/100: 100%|██████████| 98/98 [01:45<00:00,  1.07s/it, loss=0.0158, lr=2e-5]\n"
          ]
        },
        {
          "output_type": "stream",
          "name": "stdout",
          "text": [
            "training_loss.avg:0.013196018267879072, best_loss:0.012959932784873004\n"
          ]
        },
        {
          "output_type": "stream",
          "name": "stderr",
          "text": [
            "Epoch 82/100: 100%|██████████| 98/98 [01:45<00:00,  1.07s/it, loss=0.0126, lr=2e-5]\n"
          ]
        },
        {
          "output_type": "stream",
          "name": "stdout",
          "text": [
            "training_loss.avg:0.013218945510001207, best_loss:0.012959932784873004\n"
          ]
        },
        {
          "output_type": "stream",
          "name": "stderr",
          "text": [
            "Epoch 83/100: 100%|██████████| 98/98 [01:44<00:00,  1.07s/it, loss=0.0145, lr=2e-5]\n"
          ]
        },
        {
          "output_type": "stream",
          "name": "stdout",
          "text": [
            "training_loss.avg:0.013445308793108074, best_loss:0.012959932784873004\n"
          ]
        },
        {
          "output_type": "stream",
          "name": "stderr",
          "text": [
            "Epoch 84/100: 100%|██████████| 98/98 [01:45<00:00,  1.07s/it, loss=0.0123, lr=2e-5]\n"
          ]
        },
        {
          "output_type": "stream",
          "name": "stdout",
          "text": [
            "training_loss.avg:0.01356901077325551, best_loss:0.012959932784873004\n"
          ]
        },
        {
          "output_type": "stream",
          "name": "stderr",
          "text": [
            "Epoch 85/100: 100%|██████████| 98/98 [01:44<00:00,  1.07s/it, loss=0.0132, lr=2e-5]\n"
          ]
        },
        {
          "output_type": "stream",
          "name": "stdout",
          "text": [
            "training_loss.avg:0.013665212726942738, best_loss:0.012959932784873004\n"
          ]
        },
        {
          "output_type": "stream",
          "name": "stderr",
          "text": [
            "Epoch 86/100: 100%|██████████| 98/98 [01:44<00:00,  1.07s/it, loss=0.0124, lr=2e-5]\n"
          ]
        },
        {
          "output_type": "stream",
          "name": "stdout",
          "text": [
            "training_loss.avg:0.013701574658328781, best_loss:0.012959932784873004\n"
          ]
        },
        {
          "output_type": "stream",
          "name": "stderr",
          "text": [
            "Epoch 87/100: 100%|██████████| 98/98 [01:45<00:00,  1.07s/it, loss=0.0168, lr=2e-6]\n"
          ]
        },
        {
          "output_type": "stream",
          "name": "stdout",
          "text": [
            "training_loss.avg:0.013451101467469516, best_loss:0.012959932784873004\n"
          ]
        },
        {
          "output_type": "stream",
          "name": "stderr",
          "text": [
            "Epoch 88/100: 100%|██████████| 98/98 [01:44<00:00,  1.07s/it, loss=0.0142, lr=2e-6]\n"
          ]
        },
        {
          "output_type": "stream",
          "name": "stdout",
          "text": [
            "training_loss.avg:0.013239886174548646, best_loss:0.012959932784873004\n"
          ]
        },
        {
          "output_type": "stream",
          "name": "stderr",
          "text": [
            "Epoch 89/100: 100%|██████████| 98/98 [01:45<00:00,  1.07s/it, loss=0.0143, lr=2e-6]\n"
          ]
        },
        {
          "output_type": "stream",
          "name": "stdout",
          "text": [
            "training_loss.avg:0.013604242905822336, best_loss:0.012959932784873004\n"
          ]
        },
        {
          "output_type": "stream",
          "name": "stderr",
          "text": [
            "Epoch 90/100: 100%|██████████| 98/98 [01:45<00:00,  1.07s/it, loss=0.0144, lr=2e-6]\n"
          ]
        },
        {
          "output_type": "stream",
          "name": "stdout",
          "text": [
            "training_loss.avg:0.013445501320292147, best_loss:0.012959932784873004\n"
          ]
        },
        {
          "output_type": "stream",
          "name": "stderr",
          "text": [
            "Epoch 91/100: 100%|██████████| 98/98 [01:44<00:00,  1.07s/it, loss=0.0127, lr=2e-6]\n"
          ]
        },
        {
          "output_type": "stream",
          "name": "stdout",
          "text": [
            "training_loss.avg:0.013364947210921317, best_loss:0.012959932784873004\n"
          ]
        },
        {
          "output_type": "stream",
          "name": "stderr",
          "text": [
            "Epoch 92/100: 100%|██████████| 98/98 [01:44<00:00,  1.07s/it, loss=0.00931, lr=2e-6]\n"
          ]
        },
        {
          "output_type": "stream",
          "name": "stdout",
          "text": [
            "training_loss.avg:0.01320009115057028, best_loss:0.012959932784873004\n"
          ]
        },
        {
          "output_type": "stream",
          "name": "stderr",
          "text": [
            "Epoch 93/100: 100%|██████████| 98/98 [01:45<00:00,  1.07s/it, loss=0.013, lr=2e-7]\n"
          ]
        },
        {
          "output_type": "stream",
          "name": "stdout",
          "text": [
            "training_loss.avg:0.013270583973095124, best_loss:0.012959932784873004\n"
          ]
        },
        {
          "output_type": "stream",
          "name": "stderr",
          "text": [
            "Epoch 94/100: 100%|██████████| 98/98 [01:45<00:00,  1.07s/it, loss=0.0154, lr=2e-7]\n"
          ]
        },
        {
          "output_type": "stream",
          "name": "stdout",
          "text": [
            "training_loss.avg:0.013431697665732734, best_loss:0.012959932784873004\n"
          ]
        },
        {
          "output_type": "stream",
          "name": "stderr",
          "text": [
            "Epoch 95/100: 100%|██████████| 98/98 [01:44<00:00,  1.07s/it, loss=0.013, lr=2e-7]\n"
          ]
        },
        {
          "output_type": "stream",
          "name": "stdout",
          "text": [
            "training_loss.avg:0.013467217966610072, best_loss:0.012959932784873004\n"
          ]
        },
        {
          "output_type": "stream",
          "name": "stderr",
          "text": [
            "Epoch 96/100: 100%|██████████| 98/98 [01:44<00:00,  1.07s/it, loss=0.00989, lr=2e-7]\n"
          ]
        },
        {
          "output_type": "stream",
          "name": "stdout",
          "text": [
            "training_loss.avg:0.01340066215821675, best_loss:0.012959932784873004\n"
          ]
        },
        {
          "output_type": "stream",
          "name": "stderr",
          "text": [
            "Epoch 97/100: 100%|██████████| 98/98 [01:44<00:00,  1.07s/it, loss=0.0109, lr=2e-7]\n"
          ]
        },
        {
          "output_type": "stream",
          "name": "stdout",
          "text": [
            "training_loss.avg:0.013194598979791817, best_loss:0.012959932784873004\n"
          ]
        },
        {
          "output_type": "stream",
          "name": "stderr",
          "text": [
            "Epoch 98/100: 100%|██████████| 98/98 [01:44<00:00,  1.07s/it, loss=0.0132, lr=2e-7]\n"
          ]
        },
        {
          "output_type": "stream",
          "name": "stdout",
          "text": [
            "training_loss.avg:0.013357166058326863, best_loss:0.012959932784873004\n"
          ]
        },
        {
          "output_type": "stream",
          "name": "stderr",
          "text": [
            "Epoch 99/100: 100%|██████████| 98/98 [01:45<00:00,  1.07s/it, loss=0.0146, lr=1e-7]"
          ]
        },
        {
          "output_type": "stream",
          "name": "stdout",
          "text": [
            "training_loss.avg:0.013585893047631395, best_loss:0.012959932784873004\n"
          ]
        },
        {
          "output_type": "stream",
          "name": "stderr",
          "text": [
            "\n"
          ]
        }
      ],
      "source": [
        "from tqdm import tqdm\n",
        "\n",
        "# Training params\n",
        "lr = 2e-4\n",
        "\n",
        "criterion = nn.MSELoss()\n",
        "optimizer = optim.AdamW(unet.parameters(), lr=lr) # Optimizer\n",
        "\n",
        "# Training Loop\n",
        "num_epochs = 100\n",
        "lr_scheduler = optim.lr_scheduler.ReduceLROnPlateau(optimizer, mode='min', patience=5, min_lr=1e-7) # learning rate scheduler\n",
        "learning_rates = list()\n",
        "losses = [] # Store losses for later plotting\n",
        "cifar10_train = cifar10[\"train\"]\n",
        "cifar10_test = cifar10[\"test\"]\n",
        "\n",
        "unet.train()\n",
        "best_loss = float('inf')\n",
        "\n",
        "for epoch in range(num_epochs):\n",
        "\n",
        "    # training loss\n",
        "    training_loss = AverageMeter()\n",
        "    t_dataloader = tqdm(train_dataloader)\n",
        "    t_dataloader.set_description(f\"Epoch {epoch}/{num_epochs}\")\n",
        "\n",
        "    for (images, labels) in t_dataloader:\n",
        "        images = images.cuda()\n",
        "        t = sample_timesteps(images.shape[0]).cuda()\n",
        "\n",
        "        # Adding noise to the input image\n",
        "        x_t, noise = q_xt_x0(images, t)\n",
        "\n",
        "        # Predicting the noise\n",
        "        predicted_noise = unet(x_t, t)\n",
        "\n",
        "        loss = criterion(noise, predicted_noise)\n",
        "\n",
        "        # Optimizing\n",
        "        optimizer.zero_grad()\n",
        "        loss.backward()\n",
        "        optimizer.step()\n",
        "\n",
        "        # Updating average loss of current epoch\n",
        "        training_loss.update(loss.item())\n",
        "\n",
        "        # current learning rate\n",
        "        # current_lr = optimizer.param_groups[0]['lr']\n",
        "        current_lr = lr_scheduler.get_last_lr()[0]\n",
        "\n",
        "        # Reporting\n",
        "        t_dataloader.set_postfix(\n",
        "            loss = loss.item(),\n",
        "            lr = current_lr\n",
        "        )\n",
        "\n",
        "    losses.append(training_loss.avg)\n",
        "\n",
        "    lr_scheduler.step(training_loss.avg)\n",
        "    learning_rates.append(lr_scheduler.get_last_lr()[0])\n",
        "\n",
        "    print(f\"training_loss.avg:{training_loss.avg}, best_loss:{best_loss}\")\n",
        "\n",
        "    if training_loss.avg < best_loss:\n",
        "        best_loss = training_loss.avg\n",
        "        torch.save(unet.state_dict(), \"/content/drive/My Drive/DDPM_weights.pth\")  # Overwrites existing file\n",
        "        print(f\"Model weights updated, Epoch={epoch}\")\n",
        "\n",
        "    np.save(\"/content/drive/My Drive/DDPM_losses\", np.array(losses))\n",
        "    np.save(\"/content/drive/My Drive/DDPM_lr\", np.array(learning_rates))"
      ]
    },
    {
      "cell_type": "markdown",
      "metadata": {
        "id": "DsRYlDN8Lyso"
      },
      "source": [
        "\n",
        "### 2.4.5 Plotting Losses"
      ]
    },
    {
      "cell_type": "code",
      "execution_count": null,
      "metadata": {
        "id": "0n2LRohILyso"
      },
      "outputs": [],
      "source": [
        "import matplotlib.pyplot as plt\n",
        "\n",
        "def plot_loss(losses, start_epoch=0, saving_path=None, y_precision=1):\n",
        "    # epochs\n",
        "    num_epochs = len(losses)\n",
        "    epochs = np.arange(start_epoch, start_epoch + num_epochs, 1)\n",
        "\n",
        "\n",
        "    # axis\n",
        "    ax = plt.figure(figsize=(10,8)).add_subplot(111)\n",
        "\n",
        "    # plotting (epoch, loss(epoch))\n",
        "    plt.plot(np.arange(num_epochs), losses, zorder=5, linewidth=4, color=\"#b24238\")\n",
        "\n",
        "    # xticks\n",
        "    x_min, x_max = np.min(epochs), np.max(epochs)\n",
        "    xticks_step = int((x_max - x_min + 1) / 10)\n",
        "    plt.xticks(np.arange(x_min, x_max + xticks_step/2, xticks_step), fontsize=12)\n",
        "\n",
        "    # yticks\n",
        "    y_min, y_max = round(min(losses), y_precision), round(max(losses), y_precision)\n",
        "    yticks_step = (y_max - y_min) / 10\n",
        "\n",
        "    plt.yticks( np.arange(y_min, y_max + yticks_step/2, yticks_step), fontsize=12)\n",
        "\n",
        "    # xlabel\n",
        "    plt.xlabel(\"Epoch\", fontsize=25)\n",
        "\n",
        "    # ylabel\n",
        "    plt.ylabel(\"Loss\", fontsize=25)\n",
        "\n",
        "    # remove top and right borders\n",
        "    ax.spines[\"top\"].set_visible(False)\n",
        "    ax.spines[\"right\"].set_visible(False)\n",
        "\n",
        "    # grid\n",
        "    plt.grid(alpha=0.3, zorder=0)\n",
        "\n",
        "    # title\n",
        "    plt.title(\"Training Loss\", fontsize=30)\n",
        "\n",
        "    if saving_path is not None:\n",
        "      plt.savefig(saving_path)\n",
        "\n",
        "    # showing plot\n",
        "    plt.show()"
      ]
    },
    {
      "cell_type": "code",
      "execution_count": null,
      "metadata": {
        "id": "l89oC6uyclP2",
        "colab": {
          "base_uri": "https://localhost:8080/",
          "height": 762
        },
        "outputId": "7083c1b6-77bb-4356-9142-cac7860d89e6"
      },
      "outputs": [
        {
          "output_type": "display_data",
          "data": {
            "text/plain": [
              "<Figure size 1000x800 with 1 Axes>"
            ],
            "image/png": "[encoded data removed]"
          },
          "metadata": {}
        }
      ],
      "source": [
        "plot_loss(losses, saving_path=\"/content/drive/My Drive/training_loss.png\")"
      ]
    },
    {
      "cell_type": "markdown",
      "metadata": {
        "id": "q7RgzlMAZmtk"
      },
      "source": [
        "## 2.5 The Reverse Step"
      ]
    },
    {
      "cell_type": "markdown",
      "metadata": {
        "id": "dZOLu0nfIDll"
      },
      "source": [
        "We use our model to predict the noise and then 'undo' the forward noise steps one at a time to go from an image that is pure noise to one that (hopefully) looks like a real image:"
      ]
    },
    {
      "cell_type": "code",
      "execution_count": 19,
      "metadata": {
        "id": "txWbmGFRcyQ2"
      },
      "outputs": [],
      "source": [
        "def p_xt(xt, noise, t):\n",
        "\n",
        "    alpha_t = gather(alpha, t)\n",
        "    alpha_bar_t = gather(alpha_bar, t)\n",
        "    beta_t = gather(beta, t)\n",
        "\n",
        "    noise_coef = (1 - alpha_t) / (1 - alpha_bar_t)**0.5\n",
        "\n",
        "    mu = 1 / (alpha_t**0.5) * (xt - noise_coef * noise)\n",
        "\n",
        "    sigma = beta_t ** 0.5\n",
        "\n",
        "    epsilon = torch.randn_like(xt)\n",
        "\n",
        "    xtm1 = mu + sigma * epsilon\n",
        "\n",
        "    return xtm1\n"
      ]
    },
    {
      "cell_type": "code",
      "execution_count": null,
      "metadata": {
        "id": "E_UPO6fSLysp"
      },
      "outputs": [],
      "source": [
        "!mkdir \"./DDPM_steps_samples\""
      ]
    },
    {
      "cell_type": "code",
      "execution_count": 20,
      "metadata": {
        "id": "q4eiSFWyLysp"
      },
      "outputs": [],
      "source": [
        "import matplotlib.gridspec as gridspec\n",
        "\n",
        "\n",
        "def plot_images(imgs,figsize=(20,20)):\n",
        "    num_of_images = imgs.shape[0]\n",
        "    cols = int(np.ceil(num_of_images/2))\n",
        "    rows = 2\n",
        "    plt.rcParams[\"figure.figsize\"] = figsize\n",
        "    plt.rcParams[\"figure.autolayout\"] = True\n",
        "    gs1 = gridspec.GridSpec(3, 3)\n",
        "    gs1.update(wspace=0.5, hspace=0.1)\n",
        "    fig, ax = plt.subplots(rows,cols)\n",
        "    t=0\n",
        "#     traspose_channels_images = ims\n",
        "    for i in range(rows):\n",
        "        for j in range(cols):\n",
        "            ax[i,j].imshow(imgs[t].cpu().numpy().transpose((1,2,0)),cmap='gray')\n",
        "            ax[i,j].set_aspect('equal')\n",
        "            ax[i,j].set_xticklabels([])\n",
        "            ax[i,j].set_yticklabels([])\n",
        "\n",
        "            ax[i,j].spines[\"top\"].set_visible(False)\n",
        "            ax[i,j].spines[\"right\"].set_visible(False)\n",
        "            ax[i,j].spines[\"bottom\"].set_visible(False)\n",
        "            ax[i,j].spines[\"left\"].set_visible(False)\n",
        "\n",
        "            plt.setp(ax[i,j].get_xticklabels(), visible=False)\n",
        "            plt.setp(ax[i,j].get_yticklabels(), visible=False)\n",
        "            ax[i,j].tick_params(axis='both', which='both', length=0)\n",
        "\n",
        "            t+=1\n",
        "    plt.tight_layout()\n",
        "    plt.show()"
      ]
    },
    {
      "cell_type": "code",
      "execution_count": null,
      "metadata": {
        "id": "Td2HLYquD7T1",
        "colab": {
          "base_uri": "https://localhost:8080/",
          "height": 267
        },
        "outputId": "a922ed14-ad9c-4005-b33d-42f4e25b0e1d"
      },
      "outputs": [
        {
          "output_type": "stream",
          "name": "stdout",
          "text": [
            "step: 999\n",
            "step: 512\n",
            "step: 256\n",
            "step: 64\n",
            "step: 16\n",
            "step: 4\n",
            "step: 0\n"
          ]
        },
        {
          "output_type": "execute_result",
          "data": {
            "text/plain": [
              "<PIL.Image.Image image mode=RGB size=896x128>"
            ],
            "image/png": "[encoded data removed]",
            "image/jpeg": "[encoded data removed]"
          },
          "metadata": {},
          "execution_count": 41
        }
      ],
      "source": [
        "from torchvision.utils import save_image\n",
        "\n",
        "x = torch.randn(1, 3, 32, 32).cuda() # Start with random noise\n",
        "ims = []\n",
        "\n",
        "desired_stages = [0, 4, 16, 64, 256, 512, 999]\n",
        "desired_stages = [999-stage for stage in desired_stages]\n",
        "\n",
        "# Reverse step loop\n",
        "_ts = list()\n",
        "\n",
        "for i in range(n_steps):\n",
        "  t = torch.tensor(n_steps-i-1, dtype=torch.long).cuda()\n",
        "  with torch.no_grad():\n",
        "    pred_noise = unet(x.float(), t.unsqueeze(0))\n",
        "    x = p_xt(x, pred_noise, t.unsqueeze(0))\n",
        "\n",
        "    if i in desired_stages:\n",
        "        print(f\"step: {999-i}\")\n",
        "\n",
        "        save_image(x[0], f\"./DDPM_steps_samples/{999-i}.png\")\n",
        "\n",
        "        ims.append(Image.open(f\"./DDPM_steps_samples/{999-i}.png\"))\n",
        "\n",
        "num_images= len(desired_stages)\n",
        "image = Image.new('RGB', size=(32*num_images, 32))\n",
        "for i, im in enumerate(ims[:num_images]):\n",
        "  image.paste(im, ((i%num_images)*32, 0))\n",
        "image.resize((32*4*num_images, 32*4), Image.NEAREST)"
      ]
    },
    {
      "cell_type": "code",
      "execution_count": null,
      "metadata": {
        "id": "RDExqQeqLysq",
        "colab": {
          "base_uri": "https://localhost:8080/",
          "height": 145
        },
        "outputId": "74a3c7cb-369b-4603-d614-a3929dc56b17"
      },
      "outputs": [
        {
          "output_type": "execute_result",
          "data": {
            "text/plain": [
              "<PIL.Image.Image image mode=RGB size=128x128>"
            ],
            "image/png": "[encoded data removed]",
            "image/jpeg": "[encoded data removed]"
          },
          "metadata": {},
          "execution_count": 42
        }
      ],
      "source": [
        "ims[-1].resize((32*4, 32*4), Image.NEAREST)"
      ]
    },
    {
      "cell_type": "code",
      "execution_count": null,
      "metadata": {
        "id": "8fiG4DLDLysr"
      },
      "outputs": [],
      "source": [
        "!mkdir \"./DDPM_some_samples\""
      ]
    },
    {
      "cell_type": "code",
      "execution_count": null,
      "metadata": {
        "id": "P8wmOxPUj8jn",
        "colab": {
          "base_uri": "https://localhost:8080/",
          "height": 273
        },
        "outputId": "f4badeee-faa4-4496-c031-6f812a15c95b"
      },
      "outputs": [
        {
          "output_type": "execute_result",
          "data": {
            "text/plain": [
              "<PIL.Image.Image image mode=RGB size=640x256>"
            ],
            "image/png": "[encoded data removed]",
            "image/jpeg": "[encoded data removed]"
          },
          "metadata": {},
          "execution_count": 46
        }
      ],
      "source": [
        "#@title Make and show 10 examples:\n",
        "x = torch.randn(10, 3, 32, 32).cuda() # Start with random noise\n",
        "ims = []\n",
        "for i in range(n_steps):\n",
        "  t = torch.tensor(n_steps-i-1, dtype=torch.long).cuda()\n",
        "  with torch.no_grad():\n",
        "    pred_noise = unet(x.float(), t.unsqueeze(0))\n",
        "    x = p_xt(x, pred_noise, t.unsqueeze(0))\n",
        "\n",
        "for i in range(10):\n",
        "\n",
        "    #save_image(x[i], f\"./DDPM_some_samples/{i}.png\")\n",
        "    ims.append(Image.open(f\"./DDPM_some_samples/{i}.png\"))\n",
        "\n",
        "image = Image.new('RGB', size=(32*5, 32*2))\n",
        "for i, im in enumerate(ims):\n",
        "  image.paste(im, ((i%5)*32, 32*(i//5)))\n",
        "image.resize((32*4*5, 32*4*2), Image.NEAREST)"
      ]
    },
    {
      "cell_type": "markdown",
      "metadata": {
        "id": "rMFXuOf1Vm60"
      },
      "source": [
        "\n",
        "\n",
        "# **Part2: Evaluating The Generated Samples With FID Score:**"
      ]
    },
    {
      "cell_type": "code",
      "execution_count": null,
      "metadata": {
        "colab": {
          "base_uri": "https://localhost:8080/"
        },
        "id": "MZtIPRCeTO9q",
        "outputId": "5b661a8c-6e49-4e46-e6c1-43f0a9aa99ca"
      },
      "outputs": [
        {
          "output_type": "stream",
          "name": "stdout",
          "text": [
            "Mounted at /content/drive\n"
          ]
        }
      ],
      "source": [
        "from google.colab import drive\n",
        "\n",
        "drive.mount('/content/drive')"
      ]
    },
    {
      "cell_type": "code",
      "source": [
        "import gdown\n",
        "\n",
        "# file download\n",
        "gdown.download(id=\"1s4Dt3j4gcJ5DQorEPeRT42rHQiNktWRP\", output=\"./DDPM_weights.pth\", quiet=False)"
      ],
      "metadata": {
        "colab": {
          "base_uri": "https://localhost:8080/",
          "height": 122
        },
        "id": "MQ82tVUXIhGJ",
        "outputId": "25d284fc-47ec-40c7-cc0c-273495f88bc8"
      },
      "execution_count": 15,
      "outputs": [
        {
          "output_type": "stream",
          "name": "stderr",
          "text": [
            "Downloading...\n",
            "From (original): https://drive.google.com/uc?id=1s4Dt3j4gcJ5DQorEPeRT42rHQiNktWRP\n",
            "From (redirected): https://drive.google.com/uc?id=1s4Dt3j4gcJ5DQorEPeRT42rHQiNktWRP&confirm=t&uuid=c5f93db1-6da8-4afa-a290-3218afddf50c\n",
            "To: /content/DDPM_weights.pth\n",
            "100%|██████████| 169M/169M [00:03<00:00, 54.0MB/s]\n"
          ]
        },
        {
          "output_type": "execute_result",
          "data": {
            "text/plain": [
              "'./DDPM_weights.pth'"
            ],
            "application/vnd.google.colaboratory.intrinsic+json": {
              "type": "string"
            }
          },
          "metadata": {},
          "execution_count": 15
        }
      ]
    },
    {
      "cell_type": "code",
      "execution_count": 17,
      "metadata": {
        "id": "5EbOrfQmLyss",
        "colab": {
          "base_uri": "https://localhost:8080/"
        },
        "outputId": "8429b6b3-f135-4622-f112-071b15901a80"
      },
      "outputs": [
        {
          "output_type": "execute_result",
          "data": {
            "text/plain": [
              "<All keys matched successfully>"
            ]
          },
          "metadata": {},
          "execution_count": 17
        }
      ],
      "source": [
        "unet.load_state_dict(torch.load(\"./DDPM_weights.pth\", weights_only=True))"
      ]
    },
    {
      "cell_type": "code",
      "execution_count": 17,
      "metadata": {
        "id": "yP24458qW6tZ",
        "colab": {
          "base_uri": "https://localhost:8080/"
        },
        "outputId": "fcb4f680-2508-470a-e0ef-e4951398a1fb"
      },
      "outputs": [
        {
          "output_type": "stream",
          "name": "stdout",
          "text": [
            "Collecting pytorch-fid\n",
            "  Downloading pytorch_fid-0.3.0-py3-none-any.whl.metadata (5.3 kB)\n",
            "Requirement already satisfied: numpy in /usr/local/lib/python3.11/dist-packages (from pytorch-fid) (1.26.4)\n",
            "Requirement already satisfied: pillow in /usr/local/lib/python3.11/dist-packages (from pytorch-fid) (11.1.0)\n",
            "Requirement already satisfied: scipy in /usr/local/lib/python3.11/dist-packages (from pytorch-fid) (1.13.1)\n",
            "Requirement already satisfied: torch>=1.0.1 in /usr/local/lib/python3.11/dist-packages (from pytorch-fid) (2.5.1+cu124)\n",
            "Requirement already satisfied: torchvision>=0.2.2 in /usr/local/lib/python3.11/dist-packages (from pytorch-fid) (0.20.1+cu124)\n",
            "Requirement already satisfied: filelock in /usr/local/lib/python3.11/dist-packages (from torch>=1.0.1->pytorch-fid) (3.17.0)\n",
            "Requirement already satisfied: typing-extensions>=4.8.0 in /usr/local/lib/python3.11/dist-packages (from torch>=1.0.1->pytorch-fid) (4.12.2)\n",
            "Requirement already satisfied: networkx in /usr/local/lib/python3.11/dist-packages (from torch>=1.0.1->pytorch-fid) (3.4.2)\n",
            "Requirement already satisfied: jinja2 in /usr/local/lib/python3.11/dist-packages (from torch>=1.0.1->pytorch-fid) (3.1.5)\n",
            "Requirement already satisfied: fsspec in /usr/local/lib/python3.11/dist-packages (from torch>=1.0.1->pytorch-fid) (2024.10.0)\n",
            "Collecting nvidia-cuda-nvrtc-cu12==12.4.127 (from torch>=1.0.1->pytorch-fid)\n",
            "  Downloading nvidia_cuda_nvrtc_cu12-12.4.127-py3-none-manylinux2014_x86_64.whl.metadata (1.5 kB)\n",
            "Collecting nvidia-cuda-runtime-cu12==12.4.127 (from torch>=1.0.1->pytorch-fid)\n",
            "  Downloading nvidia_cuda_runtime_cu12-12.4.127-py3-none-manylinux2014_x86_64.whl.metadata (1.5 kB)\n",
            "Collecting nvidia-cuda-cupti-cu12==12.4.127 (from torch>=1.0.1->pytorch-fid)\n",
            "  Downloading nvidia_cuda_cupti_cu12-12.4.127-py3-none-manylinux2014_x86_64.whl.metadata (1.6 kB)\n",
            "Collecting nvidia-cudnn-cu12==9.1.0.70 (from torch>=1.0.1->pytorch-fid)\n",
            "  Downloading nvidia_cudnn_cu12-9.1.0.70-py3-none-manylinux2014_x86_64.whl.metadata (1.6 kB)\n",
            "Collecting nvidia-cublas-cu12==12.4.5.8 (from torch>=1.0.1->pytorch-fid)\n",
            "  Downloading nvidia_cublas_cu12-12.4.5.8-py3-none-manylinux2014_x86_64.whl.metadata (1.5 kB)\n",
            "Collecting nvidia-cufft-cu12==11.2.1.3 (from torch>=1.0.1->pytorch-fid)\n",
            "  Downloading nvidia_cufft_cu12-11.2.1.3-py3-none-manylinux2014_x86_64.whl.metadata (1.5 kB)\n",
            "Collecting nvidia-curand-cu12==10.3.5.147 (from torch>=1.0.1->pytorch-fid)\n",
            "  Downloading nvidia_curand_cu12-10.3.5.147-py3-none-manylinux2014_x86_64.whl.metadata (1.5 kB)\n",
            "Collecting nvidia-cusolver-cu12==11.6.1.9 (from torch>=1.0.1->pytorch-fid)\n",
            "  Downloading nvidia_cusolver_cu12-11.6.1.9-py3-none-manylinux2014_x86_64.whl.metadata (1.6 kB)\n",
            "Collecting nvidia-cusparse-cu12==12.3.1.170 (from torch>=1.0.1->pytorch-fid)\n",
            "  Downloading nvidia_cusparse_cu12-12.3.1.170-py3-none-manylinux2014_x86_64.whl.metadata (1.6 kB)\n",
            "Requirement already satisfied: nvidia-nccl-cu12==2.21.5 in /usr/local/lib/python3.11/dist-packages (from torch>=1.0.1->pytorch-fid) (2.21.5)\n",
            "Requirement already satisfied: nvidia-nvtx-cu12==12.4.127 in /usr/local/lib/python3.11/dist-packages (from torch>=1.0.1->pytorch-fid) (12.4.127)\n",
            "Collecting nvidia-nvjitlink-cu12==12.4.127 (from torch>=1.0.1->pytorch-fid)\n",
            "  Downloading nvidia_nvjitlink_cu12-12.4.127-py3-none-manylinux2014_x86_64.whl.metadata (1.5 kB)\n",
            "Requirement already satisfied: triton==3.1.0 in /usr/local/lib/python3.11/dist-packages (from torch>=1.0.1->pytorch-fid) (3.1.0)\n",
            "Requirement already satisfied: sympy==1.13.1 in /usr/local/lib/python3.11/dist-packages (from torch>=1.0.1->pytorch-fid) (1.13.1)\n",
            "Requirement already satisfied: mpmath<1.4,>=1.1.0 in /usr/local/lib/python3.11/dist-packages (from sympy==1.13.1->torch>=1.0.1->pytorch-fid) (1.3.0)\n",
            "Requirement already satisfied: MarkupSafe>=2.0 in /usr/local/lib/python3.11/dist-packages (from jinja2->torch>=1.0.1->pytorch-fid) (3.0.2)\n",
            "Downloading pytorch_fid-0.3.0-py3-none-any.whl (15 kB)\n",
            "Downloading nvidia_cublas_cu12-12.4.5.8-py3-none-manylinux2014_x86_64.whl (363.4 MB)\n",
            "\u001b[2K   \u001b[90m━━━━━━━━━━━━━━━━━━━━━━━━━━━━━━━━━━━━━━━━\u001b[0m \u001b[32m363.4/363.4 MB\u001b[0m \u001b[31m4.2 MB/s\u001b[0m eta \u001b[36m0:00:00\u001b[0m\n",
            "\u001b[?25hDownloading nvidia_cuda_cupti_cu12-12.4.127-py3-none-manylinux2014_x86_64.whl (13.8 MB)\n",
            "\u001b[2K   \u001b[90m━━━━━━━━━━━━━━━━━━━━━━━━━━━━━━━━━━━━━━━━\u001b[0m \u001b[32m13.8/13.8 MB\u001b[0m \u001b[31m76.9 MB/s\u001b[0m eta \u001b[36m0:00:00\u001b[0m\n",
            "\u001b[?25hDownloading nvidia_cuda_nvrtc_cu12-12.4.127-py3-none-manylinux2014_x86_64.whl (24.6 MB)\n",
            "\u001b[2K   \u001b[90m━━━━━━━━━━━━━━━━━━━━━━━━━━━━━━━━━━━━━━━━\u001b[0m \u001b[32m24.6/24.6 MB\u001b[0m \u001b[31m58.7 MB/s\u001b[0m eta \u001b[36m0:00:00\u001b[0m\n",
            "\u001b[?25hDownloading nvidia_cuda_runtime_cu12-12.4.127-py3-none-manylinux2014_x86_64.whl (883 kB)\n",
            "\u001b[2K   \u001b[90m━━━━━━━━━━━━━━━━━━━━━━━━━━━━━━━━━━━━━━━━\u001b[0m \u001b[32m883.7/883.7 kB\u001b[0m \u001b[31m54.2 MB/s\u001b[0m eta \u001b[36m0:00:00\u001b[0m\n",
            "\u001b[?25hDownloading nvidia_cudnn_cu12-9.1.0.70-py3-none-manylinux2014_x86_64.whl (664.8 MB)\n",
            "\u001b[2K   \u001b[90m━━━━━━━━━━━━━━━━━━━━━━━━━━━━━━━━━━━━━━━━\u001b[0m \u001b[32m664.8/664.8 MB\u001b[0m \u001b[31m2.0 MB/s\u001b[0m eta \u001b[36m0:00:00\u001b[0m\n",
            "\u001b[?25hDownloading nvidia_cufft_cu12-11.2.1.3-py3-none-manylinux2014_x86_64.whl (211.5 MB)\n",
            "\u001b[2K   \u001b[90m━━━━━━━━━━━━━━━━━━━━━━━━━━━━━━━━━━━━━━━━\u001b[0m \u001b[32m211.5/211.5 MB\u001b[0m \u001b[31m6.4 MB/s\u001b[0m eta \u001b[36m0:00:00\u001b[0m\n",
            "\u001b[?25hDownloading nvidia_curand_cu12-10.3.5.147-py3-none-manylinux2014_x86_64.whl (56.3 MB)\n",
            "\u001b[2K   \u001b[90m━━━━━━━━━━━━━━━━━━━━━━━━━━━━━━━━━━━━━━━━\u001b[0m \u001b[32m56.3/56.3 MB\u001b[0m \u001b[31m14.2 MB/s\u001b[0m eta \u001b[36m0:00:00\u001b[0m\n",
            "\u001b[?25hDownloading nvidia_cusolver_cu12-11.6.1.9-py3-none-manylinux2014_x86_64.whl (127.9 MB)\n",
            "\u001b[2K   \u001b[90m━━━━━━━━━━━━━━━━━━━━━━━━━━━━━━━━━━━━━━━━\u001b[0m \u001b[32m127.9/127.9 MB\u001b[0m \u001b[31m8.0 MB/s\u001b[0m eta \u001b[36m0:00:00\u001b[0m\n",
            "\u001b[?25hDownloading nvidia_cusparse_cu12-12.3.1.170-py3-none-manylinux2014_x86_64.whl (207.5 MB)\n",
            "\u001b[2K   \u001b[90m━━━━━━━━━━━━━━━━━━━━━━━━━━━━━━━━━━━━━━━━\u001b[0m \u001b[32m207.5/207.5 MB\u001b[0m \u001b[31m6.5 MB/s\u001b[0m eta \u001b[36m0:00:00\u001b[0m\n",
            "\u001b[?25hDownloading nvidia_nvjitlink_cu12-12.4.127-py3-none-manylinux2014_x86_64.whl (21.1 MB)\n",
            "\u001b[2K   \u001b[90m━━━━━━━━━━━━━━━━━━━━━━━━━━━━━━━━━━━━━━━━\u001b[0m \u001b[32m21.1/21.1 MB\u001b[0m \u001b[31m95.2 MB/s\u001b[0m eta \u001b[36m0:00:00\u001b[0m\n",
            "\u001b[?25hInstalling collected packages: nvidia-nvjitlink-cu12, nvidia-curand-cu12, nvidia-cufft-cu12, nvidia-cuda-runtime-cu12, nvidia-cuda-nvrtc-cu12, nvidia-cuda-cupti-cu12, nvidia-cublas-cu12, nvidia-cusparse-cu12, nvidia-cudnn-cu12, nvidia-cusolver-cu12, pytorch-fid\n",
            "  Attempting uninstall: nvidia-nvjitlink-cu12\n",
            "    Found existing installation: nvidia-nvjitlink-cu12 12.5.82\n",
            "    Uninstalling nvidia-nvjitlink-cu12-12.5.82:\n",
            "      Successfully uninstalled nvidia-nvjitlink-cu12-12.5.82\n",
            "  Attempting uninstall: nvidia-curand-cu12\n",
            "    Found existing installation: nvidia-curand-cu12 10.3.6.82\n",
            "    Uninstalling nvidia-curand-cu12-10.3.6.82:\n",
            "      Successfully uninstalled nvidia-curand-cu12-10.3.6.82\n",
            "  Attempting uninstall: nvidia-cufft-cu12\n",
            "    Found existing installation: nvidia-cufft-cu12 11.2.3.61\n",
            "    Uninstalling nvidia-cufft-cu12-11.2.3.61:\n",
            "      Successfully uninstalled nvidia-cufft-cu12-11.2.3.61\n",
            "  Attempting uninstall: nvidia-cuda-runtime-cu12\n",
            "    Found existing installation: nvidia-cuda-runtime-cu12 12.5.82\n",
            "    Uninstalling nvidia-cuda-runtime-cu12-12.5.82:\n",
            "      Successfully uninstalled nvidia-cuda-runtime-cu12-12.5.82\n",
            "  Attempting uninstall: nvidia-cuda-nvrtc-cu12\n",
            "    Found existing installation: nvidia-cuda-nvrtc-cu12 12.5.82\n",
            "    Uninstalling nvidia-cuda-nvrtc-cu12-12.5.82:\n",
            "      Successfully uninstalled nvidia-cuda-nvrtc-cu12-12.5.82\n",
            "  Attempting uninstall: nvidia-cuda-cupti-cu12\n",
            "    Found existing installation: nvidia-cuda-cupti-cu12 12.5.82\n",
            "    Uninstalling nvidia-cuda-cupti-cu12-12.5.82:\n",
            "      Successfully uninstalled nvidia-cuda-cupti-cu12-12.5.82\n",
            "  Attempting uninstall: nvidia-cublas-cu12\n",
            "    Found existing installation: nvidia-cublas-cu12 12.5.3.2\n",
            "    Uninstalling nvidia-cublas-cu12-12.5.3.2:\n",
            "      Successfully uninstalled nvidia-cublas-cu12-12.5.3.2\n",
            "  Attempting uninstall: nvidia-cusparse-cu12\n",
            "    Found existing installation: nvidia-cusparse-cu12 12.5.1.3\n",
            "    Uninstalling nvidia-cusparse-cu12-12.5.1.3:\n",
            "      Successfully uninstalled nvidia-cusparse-cu12-12.5.1.3\n",
            "  Attempting uninstall: nvidia-cudnn-cu12\n",
            "    Found existing installation: nvidia-cudnn-cu12 9.3.0.75\n",
            "    Uninstalling nvidia-cudnn-cu12-9.3.0.75:\n",
            "      Successfully uninstalled nvidia-cudnn-cu12-9.3.0.75\n",
            "  Attempting uninstall: nvidia-cusolver-cu12\n",
            "    Found existing installation: nvidia-cusolver-cu12 11.6.3.83\n",
            "    Uninstalling nvidia-cusolver-cu12-11.6.3.83:\n",
            "      Successfully uninstalled nvidia-cusolver-cu12-11.6.3.83\n",
            "Successfully installed nvidia-cublas-cu12-12.4.5.8 nvidia-cuda-cupti-cu12-12.4.127 nvidia-cuda-nvrtc-cu12-12.4.127 nvidia-cuda-runtime-cu12-12.4.127 nvidia-cudnn-cu12-9.1.0.70 nvidia-cufft-cu12-11.2.1.3 nvidia-curand-cu12-10.3.5.147 nvidia-cusolver-cu12-11.6.1.9 nvidia-cusparse-cu12-12.3.1.170 nvidia-nvjitlink-cu12-12.4.127 pytorch-fid-0.3.0\n"
          ]
        }
      ],
      "source": [
        "!pip install pytorch-fid"
      ]
    },
    {
      "cell_type": "markdown",
      "metadata": {
        "id": "oyOB9rE3YHgq"
      },
      "source": [
        "Generate and Save Samples"
      ]
    },
    {
      "cell_type": "code",
      "execution_count": 21,
      "metadata": {
        "id": "yeOE8uoULyss"
      },
      "outputs": [],
      "source": [
        "!mkdir \"./reverse_process\""
      ]
    },
    {
      "cell_type": "code",
      "execution_count": 24,
      "metadata": {
        "id": "WM2PMqaxX96-",
        "colab": {
          "base_uri": "https://localhost:8080/"
        },
        "outputId": "39fbcddc-84d0-49ff-9b3e-dd443cdfa76e"
      },
      "outputs": [
        {
          "output_type": "stream",
          "name": "stderr",
          "text": [
            "100%|██████████| 100/100 [31:07<00:00, 18.68s/it]\n"
          ]
        }
      ],
      "source": [
        "from torchvision.utils import save_image\n",
        "from tqdm import tqdm\n",
        "\n",
        "# generate samples\n",
        "num_samples = 100\n",
        "\n",
        "for k in tqdm(range(num_samples)):\n",
        "    x = torch.randn(1, 3, 32, 32).cuda() # Start with random noise\n",
        "    for i in range(n_steps):\n",
        "\n",
        "        with torch.no_grad():\n",
        "            t = torch.tensor(n_steps-i-1, dtype=torch.long).cuda()\n",
        "            pred_noise = unet(x.float(), t.unsqueeze(0))\n",
        "            x = p_xt(x, pred_noise, t.unsqueeze(0))\n",
        "\n",
        "#             if i % 10 == 0:\n",
        "#                 save_image(x, f\"./outputs_backward/{k}_{i}.png\")\n",
        "        save_image(x, f\"./reverse_process/{k}_final.png\")\n",
        "\n",
        "    # saving the generated sample (x) in a directory\n",
        "    # See this link: https://pytorch.org/vision/stable/generated/torchvision.utils.save_image.html"
      ]
    },
    {
      "cell_type": "code",
      "source": [
        "!unzip -o \"./test_samples.zip\" -d \"./\""
      ],
      "metadata": {
        "colab": {
          "base_uri": "https://localhost:8080/"
        },
        "id": "gdp_6OZlJ6w7",
        "outputId": "918da704-41ca-4a79-d287-7beb48be35e6"
      },
      "execution_count": 26,
      "outputs": [
        {
          "output_type": "stream",
          "name": "stdout",
          "text": [
            "Archive:  ./test_samples.zip\n",
            "  inflating: ./test_samples/25.png   \n",
            "  inflating: ./test_samples/70.png   \n",
            "  inflating: ./test_samples/9.png    \n",
            "  inflating: ./test_samples/21.png   \n",
            "  inflating: ./test_samples/76.png   \n",
            "  inflating: ./test_samples/90.png   \n",
            "  inflating: ./test_samples/77.png   \n",
            "  inflating: ./test_samples/31.png   \n",
            "  inflating: ./test_samples/20.png   \n",
            "  inflating: ./test_samples/36.png   \n",
            "  inflating: ./test_samples/3.png    \n",
            "  inflating: ./test_samples/22.png   \n",
            "  inflating: ./test_samples/10.png   \n",
            "  inflating: ./test_samples/57.png   \n",
            "  inflating: ./test_samples/43.png   \n",
            "  inflating: ./test_samples/88.png   \n",
            "  inflating: ./test_samples/7.png    \n",
            "  inflating: ./test_samples/79.png   \n",
            "  inflating: ./test_samples/38.png   \n",
            "  inflating: ./test_samples/58.png   \n",
            "  inflating: ./test_samples/4.png    \n",
            "  inflating: ./test_samples/85.png   \n",
            "  inflating: ./test_samples/40.png   \n",
            "  inflating: ./test_samples/42.png   \n",
            "  inflating: ./test_samples/17.png   \n",
            "  inflating: ./test_samples/49.png   \n",
            "  inflating: ./test_samples/68.png   \n",
            "  inflating: ./test_samples/37.png   \n",
            "  inflating: ./test_samples/34.png   \n",
            "  inflating: ./test_samples/11.png   \n",
            "  inflating: ./test_samples/46.png   \n",
            "  inflating: ./test_samples/16.png   \n",
            "  inflating: ./test_samples/1.png    \n",
            "  inflating: ./test_samples/62.png   \n",
            "  inflating: ./test_samples/71.png   \n",
            "  inflating: ./test_samples/18.png   \n",
            "  inflating: ./test_samples/12.png   \n",
            "  inflating: ./test_samples/2.png    \n",
            "  inflating: ./test_samples/35.png   \n",
            "  inflating: ./test_samples/48.png   \n",
            "  inflating: ./test_samples/92.png   \n",
            "  inflating: ./test_samples/61.png   \n",
            "  inflating: ./test_samples/53.png   \n",
            "  inflating: ./test_samples/47.png   \n",
            "  inflating: ./test_samples/74.png   \n",
            "  inflating: ./test_samples/6.png    \n",
            "  inflating: ./test_samples/27.png   \n",
            "  inflating: ./test_samples/64.png   \n",
            "  inflating: ./test_samples/29.png   \n",
            "  inflating: ./test_samples/59.png   \n",
            "  inflating: ./test_samples/26.png   \n",
            "  inflating: ./test_samples/44.png   \n",
            "  inflating: ./test_samples/65.png   \n",
            "  inflating: ./test_samples/95.png   \n",
            "  inflating: ./test_samples/67.png   \n",
            "  inflating: ./test_samples/80.png   \n",
            "  inflating: ./test_samples/66.png   \n",
            "  inflating: ./test_samples/60.png   \n",
            "  inflating: ./test_samples/39.png   \n",
            "  inflating: ./test_samples/14.png   \n",
            "  inflating: ./test_samples/23.png   \n",
            "  inflating: ./test_samples/63.png   \n",
            "  inflating: ./test_samples/55.png   \n",
            "  inflating: ./test_samples/5.png    \n",
            "  inflating: ./test_samples/89.png   \n",
            "  inflating: ./test_samples/82.png   \n",
            "  inflating: ./test_samples/94.png   \n",
            "  inflating: ./test_samples/45.png   \n",
            "  inflating: ./test_samples/13.png   \n",
            "  inflating: ./test_samples/91.png   \n",
            "  inflating: ./test_samples/83.png   \n",
            "  inflating: ./test_samples/28.png   \n",
            "  inflating: ./test_samples/30.png   \n",
            "  inflating: ./test_samples/50.png   \n",
            "  inflating: ./test_samples/72.png   \n",
            "  inflating: ./test_samples/93.png   \n",
            "  inflating: ./test_samples/33.png   \n",
            "  inflating: ./test_samples/52.png   \n",
            "  inflating: ./test_samples/81.png   \n",
            "  inflating: ./test_samples/54.png   \n",
            "  inflating: ./test_samples/86.png   \n",
            "  inflating: ./test_samples/19.png   \n",
            "  inflating: ./test_samples/32.png   \n",
            "  inflating: ./test_samples/8.png    \n",
            "  inflating: ./test_samples/97.png   \n",
            "  inflating: ./test_samples/41.png   \n",
            "  inflating: ./test_samples/73.png   \n",
            "  inflating: ./test_samples/56.png   \n",
            "  inflating: ./test_samples/75.png   \n",
            "  inflating: ./test_samples/78.png   \n",
            "  inflating: ./test_samples/84.png   \n",
            "  inflating: ./test_samples/15.png   \n",
            "  inflating: ./test_samples/96.png   \n",
            "  inflating: ./test_samples/87.png   \n",
            "  inflating: ./test_samples/98.png   \n",
            "  inflating: ./test_samples/0.png    \n",
            "  inflating: ./test_samples/24.png   \n",
            "  inflating: ./test_samples/69.png   \n",
            "  inflating: ./test_samples/51.png   \n",
            "  inflating: ./test_samples/99.png   \n"
          ]
        }
      ]
    },
    {
      "cell_type": "markdown",
      "metadata": {
        "id": "2Py98jlrk-JA"
      },
      "source": [
        "Compute the FID Score"
      ]
    },
    {
      "cell_type": "code",
      "execution_count": null,
      "metadata": {
        "id": "3g2KOqFqgAoA"
      },
      "outputs": [],
      "source": [
        "# to compute the FID score using pytorch-fid package,\n",
        "# we need to have two image directories:\n",
        "# 1- Directory of the original images.\n",
        "# 2- Directory of the generated images.\n",
        "\n",
        "# python -m pytorch_fid path/to/dataset1 path/to/dataset2 --device cuda:0"
      ]
    },
    {
      "cell_type": "code",
      "execution_count": 27,
      "metadata": {
        "id": "zkKFzhiGLysv",
        "colab": {
          "base_uri": "https://localhost:8080/"
        },
        "outputId": "2e04016e-ff4c-4d91-acc8-ce089b266328"
      },
      "outputs": [
        {
          "output_type": "stream",
          "name": "stdout",
          "text": [
            "Downloading: \"https://github.com/mseitzer/pytorch-fid/releases/download/fid_weights/pt_inception-2015-12-05-6726825d.pth\" to /root/.cache/torch/hub/checkpoints/pt_inception-2015-12-05-6726825d.pth\n",
            "100% 91.2M/91.2M [00:02<00:00, 37.9MB/s]\n",
            "100% 2/2 [00:00<00:00,  2.21it/s]\n",
            "100% 2/2 [00:00<00:00,  3.98it/s]\n",
            "FID:  250.96226868998195\n"
          ]
        }
      ],
      "source": [
        "!python -m pytorch_fid \"./test_samples\" \"./reverse_process\" --device \"cuda:0\""
      ]
    }
  ],
  "metadata": {
    "accelerator": "GPU",
    "colab": {
      "provenance": [],
      "gpuType": "T4"
    },
    "kernelspec": {
      "display_name": "Python 3",
      "name": "python3"
    },
    "language_info": {
      "codemirror_mode": {
        "name": "ipython",
        "version": 3
      },
      "file_extension": ".py",
      "mimetype": "text/x-python",
      "name": "python",
      "nbconvert_exporter": "python",
      "pygments_lexer": "ipython3",
      "version": "3.10.0"
    },
    "vscode": {
      "interpreter": {
        "hash": "31f2aee4e71d21fbe5cf8b01ff0e069b9275f58929596ceb00d14d90e3e16cd6"
      }
    }
  },
  "nbformat": 4,
  "nbformat_minor": 0
}